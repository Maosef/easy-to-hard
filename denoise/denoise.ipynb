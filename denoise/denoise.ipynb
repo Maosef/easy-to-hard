{
 "cells": [
  {
   "cell_type": "code",
   "execution_count": 11,
   "id": "1826b72b",
   "metadata": {},
   "outputs": [
    {
     "name": "stdout",
     "output_type": "stream",
     "text": [
      "alto-boot\t   learning_to_retrieve_reasoning_paths\r\n",
      "cheaters_quizbowl  multihop_dense_retrieval\r\n",
      "cl1-hw\t\t   pinafore-papers\r\n",
      "DPR\t\t   qanta-codalab\r\n",
      "easy-to-hard\t   qb\r\n",
      "easy-to-hard-data  retrieval-based-baselines\r\n",
      "golden-retriever   sifcrypto\r\n",
      "gold-rtvr-2\t   squad_project\r\n",
      "haystack\t   stanza\r\n"
     ]
    }
   ],
   "source": [
    "!ls ../../easy-to-hard-data"
   ]
  },
  {
   "cell_type": "code",
   "execution_count": 16,
   "id": "113d023a",
   "metadata": {},
   "outputs": [
    {
     "name": "stdout",
     "output_type": "stream",
     "text": [
      "Loading data with 0.1 bits.\n"
     ]
    },
    {
     "data": {
      "text/plain": [
       "<__main__.NoisyImageDataset at 0x7f6a5ddc0f90>"
      ]
     },
     "execution_count": 16,
     "metadata": {},
     "output_type": "execute_result"
    }
   ],
   "source": [
    "import os\n",
    "import torch\n",
    "\n",
    "# from easy_to_hard_data import *\n",
    "\n",
    "import errno\n",
    "import os\n",
    "import os.path\n",
    "import tarfile\n",
    "import urllib.request as ur\n",
    "from typing import Optional, Callable\n",
    "\n",
    "import numpy as np\n",
    "import torch\n",
    "from tqdm import tqdm\n",
    "\n",
    "GBFACTOR = float(1 << 30)\n",
    "\n",
    "\n",
    "def extract_zip(path, folder):\n",
    "    file = tarfile.open(path)\n",
    "    file.extractall(folder)\n",
    "    file.close\n",
    "\n",
    "\n",
    "def download_url(url, folder):\n",
    "    filename = url.rpartition('/')[2]\n",
    "    path = os.path.join(folder, filename)\n",
    "\n",
    "    if os.path.exists(path) and os.path.getsize(path) > 0:\n",
    "        print('Using existing file', filename)\n",
    "        return path\n",
    "    print('Downloading', url)\n",
    "    makedirs(folder)\n",
    "    # track downloads\n",
    "#     ur.urlopen(f\"http://avi.koplon.com/hit_counter.py?next={url}\")\n",
    "    data = ur.urlopen(url)\n",
    "    print(data.info())\n",
    "    size = int(data.info()[\"Content-Length\"])\n",
    "    chunk_size = 1024*1024\n",
    "    num_iter = int(size/chunk_size) + 2\n",
    "\n",
    "    downloaded_size = 0\n",
    "\n",
    "    try:\n",
    "        with open(path, 'wb') as f:\n",
    "            pbar = tqdm(range(num_iter))\n",
    "            for i in pbar:\n",
    "                chunk = data.read(chunk_size)\n",
    "                downloaded_size += len(chunk)\n",
    "                pbar.set_description(\"Downloaded {:.2f} GB\".format(float(downloaded_size)/GBFACTOR))\n",
    "                f.write(chunk)\n",
    "    except:\n",
    "        if os.path.exists(path):\n",
    "             os.remove(path)\n",
    "        raise RuntimeError('Stopped downloading due to interruption.')\n",
    "\n",
    "    return path\n",
    "\n",
    "\n",
    "def makedirs(path):\n",
    "    try:\n",
    "        os.makedirs(os.path.expanduser(os.path.normpath(path)))\n",
    "    except OSError as e:\n",
    "        if e.errno != errno.EEXIST and os.path.isdir(path):\n",
    "            raise e\n",
    "            \n",
    "class NoisyImageDataset(torch.utils.data.Dataset):\n",
    "    base_folder = \"noisy_image_data\"\n",
    "    url = \"https://www.dropbox.com/s/gamc8j5vqbvushj/noisy_image_data.tar.gz\"\n",
    "    lengths = [0.1,0.2,0.3,0.4,0.5]\n",
    "    download_list = [f\"data_{l}.pth\" for l in lengths] + [f\"targets_{l}.pth\" for l in lengths]\n",
    "\n",
    "    def __init__(self, root: str, num_bits: float = 0.1, download: bool = True):\n",
    "\n",
    "        self.root = root\n",
    "\n",
    "#         if download:\n",
    "#             self.download()\n",
    "\n",
    "        print(f\"Loading data with {num_bits} bits.\")\n",
    "\n",
    "        inputs_path = os.path.join(root, self.base_folder, f\"data_{num_bits}.pth\")\n",
    "        targets_path = os.path.join(root, self.base_folder, f\"targets_{num_bits}.pth\")\n",
    "        self.inputs = torch.load(inputs_path)\n",
    "        self.targets = torch.load(targets_path)\n",
    "\n",
    "    def __getitem__(self, index):\n",
    "        return self.inputs[index], self.targets[index]\n",
    "\n",
    "    def __len__(self):\n",
    "        return self.inputs.size(0)\n",
    "\n",
    "    def _check_integrity(self) -> bool:\n",
    "        root = self.root\n",
    "        for fentry in self.download_list:\n",
    "            fpath = os.path.join(root, self.base_folder, fentry)\n",
    "            if not os.path.exists(fpath):\n",
    "                return False\n",
    "        return True\n",
    "\n",
    "    def download(self) -> None:\n",
    "        if self._check_integrity():\n",
    "            print('Files already downloaded and verified')\n",
    "            return\n",
    "        path = download_url(self.url, self.root)\n",
    "        extract_zip(path, self.root)\n",
    "        os.unlink(path)\n",
    "        \n",
    "        \n",
    "data = NoisyImageDataset(\"data\")\n",
    "data"
   ]
  },
  {
   "cell_type": "code",
   "execution_count": 17,
   "id": "5dc1fb56",
   "metadata": {},
   "outputs": [
    {
     "data": {
      "text/plain": [
       "10000"
      ]
     },
     "execution_count": 17,
     "metadata": {},
     "output_type": "execute_result"
    }
   ],
   "source": [
    "len(data)"
   ]
  },
  {
   "cell_type": "code",
   "execution_count": null,
   "id": "790e3a1c",
   "metadata": {},
   "outputs": [],
   "source": []
  }
 ],
 "metadata": {
  "kernelspec": {
   "display_name": "Python [conda env:easy-to-hard]",
   "language": "python",
   "name": "conda-env-easy-to-hard-py"
  },
  "language_info": {
   "codemirror_mode": {
    "name": "ipython",
    "version": 3
   },
   "file_extension": ".py",
   "mimetype": "text/x-python",
   "name": "python",
   "nbconvert_exporter": "python",
   "pygments_lexer": "ipython3",
   "version": "3.7.11"
  }
 },
 "nbformat": 4,
 "nbformat_minor": 5
}
