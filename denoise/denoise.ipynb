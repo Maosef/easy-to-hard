{
 "cells": [
  {
   "cell_type": "code",
   "execution_count": 1,
   "id": "1826b72b",
   "metadata": {},
   "outputs": [
    {
     "name": "stdout",
     "output_type": "stream",
     "text": [
      "easy_to_hard_data.py  LICENSE\t     make_mazes.py\t README.md\r\n",
      "easy_to_hard_plot.py  make_chess.py  make_prefixsums.py  setup.py\r\n"
     ]
    }
   ],
   "source": [
    "!ls ../../easy-to-hard-data"
   ]
  },
  {
   "cell_type": "code",
   "execution_count": 2,
   "id": "113d023a",
   "metadata": {},
   "outputs": [
    {
     "name": "stdout",
     "output_type": "stream",
     "text": [
      "Loading data with 0.1 bits.\n",
      "<class 'torch.Tensor'> <class 'torch.Tensor'>\n",
      "Training data using pre-set indices [0, 8000).\n"
     ]
    },
    {
     "data": {
      "text/plain": [
       "10000"
      ]
     },
     "execution_count": 2,
     "metadata": {},
     "output_type": "execute_result"
    }
   ],
   "source": [
    "import os\n",
    "import torch\n",
    "\n",
    "# from easy_to_hard_data import *\n",
    "\n",
    "import errno\n",
    "import os\n",
    "import os.path\n",
    "import tarfile\n",
    "import urllib.request as ur\n",
    "from typing import Optional, Callable\n",
    "\n",
    "import numpy as np\n",
    "import torch\n",
    "from tqdm import tqdm\n",
    "\n",
    "GBFACTOR = float(1 << 30)\n",
    "\n",
    "\n",
    "def extract_zip(path, folder):\n",
    "    file = tarfile.open(path)\n",
    "    file.extractall(folder)\n",
    "    file.close\n",
    "\n",
    "\n",
    "def download_url(url, folder):\n",
    "    filename = url.rpartition('/')[2]\n",
    "    path = os.path.join(folder, filename)\n",
    "\n",
    "    if os.path.exists(path) and os.path.getsize(path) > 0:\n",
    "        print('Using existing file', filename)\n",
    "        return path\n",
    "    print('Downloading', url)\n",
    "    makedirs(folder)\n",
    "    # track downloads\n",
    "#     ur.urlopen(f\"http://avi.koplon.com/hit_counter.py?next={url}\")\n",
    "    data = ur.urlopen(url)\n",
    "    print(data.info())\n",
    "    size = int(data.info()[\"Content-Length\"])\n",
    "    chunk_size = 1024*1024\n",
    "    num_iter = int(size/chunk_size) + 2\n",
    "\n",
    "    downloaded_size = 0\n",
    "\n",
    "    try:\n",
    "        with open(path, 'wb') as f:\n",
    "            pbar = tqdm(range(num_iter))\n",
    "            for i in pbar:\n",
    "                chunk = data.read(chunk_size)\n",
    "                downloaded_size += len(chunk)\n",
    "                pbar.set_description(\"Downloaded {:.2f} GB\".format(float(downloaded_size)/GBFACTOR))\n",
    "                f.write(chunk)\n",
    "    except:\n",
    "        if os.path.exists(path):\n",
    "             os.remove(path)\n",
    "        raise RuntimeError('Stopped downloading due to interruption.')\n",
    "\n",
    "    return path\n",
    "\n",
    "\n",
    "def makedirs(path):\n",
    "    try:\n",
    "        os.makedirs(os.path.expanduser(os.path.normpath(path)))\n",
    "    except OSError as e:\n",
    "        if e.errno != errno.EEXIST and os.path.isdir(path):\n",
    "            raise e\n",
    "            \n",
    "\n",
    "class NoisyImageDataset(torch.utils.data.Dataset):\n",
    "    base_folder = \"noisy_image_data\"\n",
    "    url = \"https://www.dropbox.com/s/gamc8j5vqbvushj/noisy_image_data.tar.gz\"\n",
    "    lengths = [0.1,0.2,0.3,0.4,0.5]\n",
    "    download_list = [f\"data_{l}.pth\" for l in lengths] + [f\"targets_{l}.pth\" for l in lengths]\n",
    "\n",
    "    def __init__(self, root: str, num_bits: float = 0.1, download: bool = True, train: bool = True):\n",
    "\n",
    "        self.root = root\n",
    "\n",
    "#         if download:\n",
    "#             self.download()\n",
    "\n",
    "        print(f\"Loading data with {num_bits} bits.\")\n",
    "\n",
    "        targets_path = os.path.join(root, self.base_folder, f\"data_{num_bits}.pth\")\n",
    "        inputs_path = os.path.join(root, self.base_folder, f\"targets_{num_bits}.pth\")\n",
    "        self.inputs = torch.tensor(torch.load(inputs_path), dtype=torch.float64)\n",
    "        self.targets = torch.load(targets_path)\n",
    "        print(type(self.inputs), type(self.targets))\n",
    "        self.train = train\n",
    "\n",
    "        if train:\n",
    "            print(\"Training data using pre-set indices [0, 8000).\")\n",
    "            idx_start = 0\n",
    "            idx_end = 8000\n",
    "        else:\n",
    "            print(\"Testing data using pre-set indices [8000, 10000).\")\n",
    "            idx_start = 8000\n",
    "            idx_end = 10000\n",
    "\n",
    "    def __getitem__(self, index):\n",
    "        return self.inputs[index], self.targets[index]\n",
    "\n",
    "    def __len__(self):\n",
    "        return self.inputs.size(0)\n",
    "\n",
    "    def _check_integrity(self) -> bool:\n",
    "        root = self.root\n",
    "        for fentry in self.download_list:\n",
    "            fpath = os.path.join(root, self.base_folder, fentry)\n",
    "            if not os.path.exists(fpath):\n",
    "                return False\n",
    "        return True\n",
    "\n",
    "    # def download(self) -> None:\n",
    "    #     if self._check_integrity():\n",
    "    #         print('Files already downloaded and verified')\n",
    "    #         return\n",
    "    #     path = download_url(self.url, self.root)\n",
    "    #     extract_zip(path, self.root)\n",
    "    #     os.unlink(path)\n",
    "        \n",
    "        \n",
    "data = NoisyImageDataset(\"data\")\n",
    "\n",
    "len(data)"
   ]
  },
  {
   "cell_type": "code",
   "execution_count": 3,
   "id": "d4d76497",
   "metadata": {},
   "outputs": [],
   "source": [
    "import argparse\n",
    "\n",
    "parser = argparse.ArgumentParser(description=\"Deep Thinking\")\n",
    "parser.add_argument(\"--checkpoint\", default=\"check_default\", type=str,\n",
    "                    help=\"where to save the network\")\n",
    "parser.add_argument(\"--data_path\", default=\"../data\", type=str, help=\"path to data files\")\n",
    "parser.add_argument(\"--depth\", default=1, type=int, help=\"depth of the network\")\n",
    "parser.add_argument(\"--epochs\", default=200, type=int, help=\"number of epochs for training\")\n",
    "parser.add_argument(\"--eval_end\", default=700000, type=int, help=\"end index for eval data\")\n",
    "parser.add_argument(\"--eval_start\", default=600000, type=int,\n",
    "                    help=\"start index for eval data\")\n",
    "parser.add_argument(\"--hist\", action=\"store_true\", help=\"save histogram history?\")\n",
    "parser.add_argument(\"--lr\", default=0.1, type=float, help=\"learning rate\")\n",
    "parser.add_argument(\"--lr_decay\", default=\"step\", type=str, help=\"which kind of lr decay\")\n",
    "parser.add_argument(\"--lr_factor\", default=0.1, type=float, help=\"learning rate decay factor\")\n",
    "parser.add_argument(\"--lr_schedule\", nargs=\"+\", default=[100, 150], type=int,\n",
    "                    help=\"how often to decrease lr\")\n",
    "parser.add_argument(\"--model\", default=\"perceiver\", type=str, help=\"model for training\")\n",
    "parser.add_argument(\"--model_path\", default=None, type=str, help=\"where is the model saved?\")\n",
    "parser.add_argument(\"--no_shuffle\", action=\"store_false\", dest=\"shuffle\",\n",
    "                    help=\"shuffle training data?\")\n",
    "parser.add_argument(\"--optimizer\", default=\"adam\", type=str, help=\"optimizer\")\n",
    "parser.add_argument(\"--output\", default=\"output_default\", type=str, help=\"output subdirectory\")\n",
    "parser.add_argument(\"--quick_test\", action=\"store_true\", help=\"only test on eval data\")\n",
    "parser.add_argument(\"--save_json\", action=\"store_true\", help=\"save json\")\n",
    "parser.add_argument(\"--save_period\", default=None, type=int, help=\"how often to save\")\n",
    "parser.add_argument(\"--test_batch_size\", default=500, type=int, help=\"batch size for testing\")\n",
    "parser.add_argument(\"--test_iterations\", default=None, type=int,\n",
    "                    help=\"how many, if testing with a different number iterations\")\n",
    "parser.add_argument(\"--test_mode\", default=\"default\", type=str, help=\"testing mode\")\n",
    "parser.add_argument(\"--train_batch_size\", default=128, type=int,\n",
    "                    help=\"batch size for training\")\n",
    "parser.add_argument(\"--train_log\", default=\"train_log.txt\", type=str,\n",
    "                    help=\"name of the log file\")\n",
    "parser.add_argument(\"--train_mode\", default=\"default\", type=str, help=\"training mode\")\n",
    "parser.add_argument(\"--val_period\", default=20, type=int, help=\"how often to validate\")\n",
    "parser.add_argument(\"--warmup_period\", default=5, type=int, help=\"warmup period\")\n",
    "parser.add_argument(\"--width\", default=4, type=int, help=\"width of the network\")\n",
    "\n",
    "OUTPUT=\"test\"\n",
    "# RNN_MODEL_PATH=\"checkpoints/recur/recur_net_sgd_depth=84_width=8_lr=0.01_batchsize=300_at109_epoch=119_1.pth\"\n",
    "# RNN_MODEL_PATH=\"checkpoints/recur_resnet_adam_depth=28_width=2_lr=0.1_batchsize=64_at0_epoch=0_log.pth\"\n",
    "RNN_MODEL_PATH=\"check_default/recur_resnet_adam_depth=28_width=2_lr=0.1_batchsize=64_at4_epoch=4_log.pth\"\n",
    "\n",
    "args_str = f\"\"\"\n",
    "--save_json \\\n",
    "--output {OUTPUT} \\\n",
    "--model recur_resnet \\\n",
    "--epochs 0 \\\n",
    "--width 2 \\\n",
    "--depth 28 \n",
    "--train_batch_size 64 \\\n",
    "--test_batch_size 64 \\\n",
    "--model_path {RNN_MODEL_PATH} \\\n",
    "--test_iterations 5\n",
    "\n",
    "\"\"\"\n",
    "args = parser.parse_args(args_str.split())\n"
   ]
  },
  {
   "cell_type": "code",
   "execution_count": 4,
   "id": "22b9e5f6",
   "metadata": {},
   "outputs": [
    {
     "name": "stdout",
     "output_type": "stream",
     "text": [
      "Loading data with 0.1 bits.\n",
      "<class 'torch.Tensor'> <class 'torch.Tensor'>\n",
      "Training data using pre-set indices [0, 8000).\n",
      "Loading data with 0.1 bits.\n",
      "<class 'torch.Tensor'> <class 'torch.Tensor'>\n",
      "Testing data using pre-set indices [8000, 10000).\n"
     ]
    }
   ],
   "source": [
    "# examine data\n",
    "\n",
    "import torch.utils.data as data\n",
    "\n",
    "from utils import train, test, OptimizerWithSched, load_model_from_checkpoint, \\\n",
    "    get_dataloaders, to_json, get_optimizer, to_log_file, now, get_model\n",
    "\n",
    "# trainloader, testloader = get_dataloaders(args.train_batch_size, args.test_batch_size, shuffle=args.shuffle)\n",
    "\n",
    "train_data = NoisyImageDataset(\"./data\", train=True)\n",
    "test_data = NoisyImageDataset(\"./data\", train=False)\n",
    "# train_data = MazeDataset(\"./data\", train=True)\n",
    "# test_data = MazeDataset(\"./data\", train=False)\n",
    "\n",
    "\n",
    "train_batch_size = args.train_batch_size\n",
    "test_batch_size = args.test_batch_size\n",
    "shuffle = args.shuffle\n",
    "\n",
    "trainloader = data.DataLoader(train_data, num_workers=0, batch_size=train_batch_size,\n",
    "                              shuffle=shuffle, drop_last=True)\n",
    "testloader = data.DataLoader(test_data, num_workers=0, batch_size=test_batch_size,\n",
    "                             shuffle=False, drop_last=False)"
   ]
  },
  {
   "cell_type": "code",
   "execution_count": 5,
   "id": "1e40dc85",
   "metadata": {},
   "outputs": [
    {
     "name": "stderr",
     "output_type": "stream",
     "text": [
      "\r",
      "  0%|                                                                           | 0/156 [00:00<?, ?it/s]"
     ]
    },
    {
     "name": "stdout",
     "output_type": "stream",
     "text": [
      "torch.Size([64, 3, 32, 32])\n",
      "torch.Size([64, 3, 32, 32])\n",
      "3\n"
     ]
    },
    {
     "data": {
      "text/plain": [
       "<function Tensor.type>"
      ]
     },
     "metadata": {},
     "output_type": "display_data"
    },
    {
     "data": {
      "text/plain": [
       "<function Tensor.type>"
      ]
     },
     "metadata": {},
     "output_type": "display_data"
    },
    {
     "data": {
      "image/png": "[encoded data removed]",
      "text/plain": [
       "<Figure size 432x288 with 1 Axes>"
      ]
     },
     "metadata": {
      "needs_background": "light"
     },
     "output_type": "display_data"
    },
    {
     "name": "stderr",
     "output_type": "stream",
     "text": [
      "\r",
      "                                                                                                        "
     ]
    },
    {
     "name": "stdout",
     "output_type": "stream",
     "text": [
      "target\n"
     ]
    },
    {
     "name": "stderr",
     "output_type": "stream",
     "text": [
      "\r"
     ]
    },
    {
     "data": {
      "image/png": "[encoded data removed]",
      "text/plain": [
       "<Figure size 432x288 with 1 Axes>"
      ]
     },
     "metadata": {
      "needs_background": "light"
     },
     "output_type": "display_data"
    }
   ],
   "source": [
    "import random\n",
    "import matplotlib.pyplot as plt\n",
    "\n",
    "# def show_image():\n",
    "    \n",
    "\n",
    "\n",
    "device = \"cpu\"\n",
    "\n",
    "for batch_idx, (inputs, targets) in enumerate(tqdm(trainloader, leave=False)):\n",
    "    inputs, targets = inputs.to(device), targets.to(device)\n",
    "    print(inputs.shape)\n",
    "    print(targets.shape)\n",
    "    \n",
    "    idx = random.randint(0,64)\n",
    "    print(idx)\n",
    "    image = inputs[idx].transpose(0, 1).transpose(1, 2)/256\n",
    "    target = targets[idx].transpose(0, 1).transpose(1, 2)/256\n",
    "    \n",
    "    display(image.type)\n",
    "    display(target.type)\n",
    "\n",
    "#     display(image)\n",
    "    plt.imshow(image)  \n",
    "    plt.show()\n",
    "    print('target')\n",
    "    plt.imshow(target)    \n",
    "\n",
    "    \n",
    "    break"
   ]
  },
  {
   "cell_type": "code",
   "execution_count": 6,
   "id": "6e9e76a7",
   "metadata": {},
   "outputs": [
    {
     "name": "stdout",
     "output_type": "stream",
     "text": [
      "Loading model from checkpoint check_default/recur_resnet_adam_depth=28_width=2_lr=0.1_batchsize=64_at4_epoch=4_log.pth...\n"
     ]
    }
   ],
   "source": [
    "# model inference\n",
    "\n",
    "# load model from path if a path is provided\n",
    "print(f\"Loading model from checkpoint {args.model_path}...\")\n",
    "net, start_epoch, optimizer_state_dict = load_model_from_checkpoint(args.model,\n",
    "                                                                    args.model_path,\n",
    "                                                                    args.width,\n",
    "                                                                    args.depth)\n",
    "start_epoch += 1\n",
    "\n",
    "\n",
    "net = torch.nn.DataParallel(net, device_ids=None)\n",
    "# pytorch_total_params = sum(p.numel() for p in net.parameters())\n",
    "# optimizer = get_optimizer(args.optimizer, net, args.lr)"
   ]
  },
  {
   "cell_type": "code",
   "execution_count": 7,
   "id": "4d85492b",
   "metadata": {},
   "outputs": [
    {
     "name": "stderr",
     "output_type": "stream",
     "text": [
      "                                                                                                        "
     ]
    },
    {
     "name": "stdout",
     "output_type": "stream",
     "text": [
      "torch.Size([64, 3, 32, 32])\n"
     ]
    },
    {
     "name": "stderr",
     "output_type": "stream",
     "text": [
      "\r"
     ]
    }
   ],
   "source": [
    "net.eval()\n",
    "\n",
    "criterion = torch.nn.MSELoss()\n",
    "\n",
    "train_loss = 0\n",
    "correct = 0\n",
    "total = 0\n",
    "total_pixels = 0\n",
    "\n",
    "for batch_idx, (inputs, targets) in enumerate(tqdm(trainloader, leave=False)):\n",
    "    inputs = inputs.float()\n",
    "    inputs, targets = inputs.to(device), targets.to(device)\n",
    "    print(targets.shape)\n",
    "#     optimizer.zero_grad()\n",
    "    outputs = net(inputs)\n",
    "    \n",
    "#     loss = criterion(outputs, targets)\n",
    "\n",
    "    break\n"
   ]
  },
  {
   "cell_type": "code",
   "execution_count": 12,
   "id": "4971ec96",
   "metadata": {
    "scrolled": false
   },
   "outputs": [
    {
     "name": "stdout",
     "output_type": "stream",
     "text": [
      "39\n",
      "tensor(-2.7244e-08) tensor(8.2872e-09)\n"
     ]
    },
    {
     "data": {
      "image/png": "[encoded data removed]",
      "text/plain": [
       "<Figure size 432x288 with 1 Axes>"
      ]
     },
     "metadata": {
      "needs_background": "light"
     },
     "output_type": "display_data"
    },
    {
     "name": "stderr",
     "output_type": "stream",
     "text": [
      "Clipping input data to the valid range for imshow with RGB data ([0..1] for floats or [0..255] for integers).\n"
     ]
    },
    {
     "data": {
      "image/png": "[encoded data removed]",
      "text/plain": [
       "<Figure size 432x288 with 1 Axes>"
      ]
     },
     "metadata": {
      "needs_background": "light"
     },
     "output_type": "display_data"
    },
    {
     "name": "stdout",
     "output_type": "stream",
     "text": [
      "10\n",
      "tensor(0.) tensor(0.)\n"
     ]
    },
    {
     "data": {
      "image/png": "[encoded data removed]",
      "text/plain": [
       "<Figure size 432x288 with 1 Axes>"
      ]
     },
     "metadata": {
      "needs_background": "light"
     },
     "output_type": "display_data"
    },
    {
     "data": {
      "image/png": "[encoded data removed]",
      "text/plain": [
       "<Figure size 432x288 with 1 Axes>"
      ]
     },
     "metadata": {
      "needs_background": "light"
     },
     "output_type": "display_data"
    },
    {
     "name": "stdout",
     "output_type": "stream",
     "text": [
      "51\n",
      "tensor(0.) tensor(0.)\n"
     ]
    },
    {
     "data": {
      "image/png": "[encoded data removed]",
      "text/plain": [
       "<Figure size 432x288 with 1 Axes>"
      ]
     },
     "metadata": {
      "needs_background": "light"
     },
     "output_type": "display_data"
    },
    {
     "data": {
      "image/png": "[encoded data removed]",
      "text/plain": [
       "<Figure size 432x288 with 1 Axes>"
      ]
     },
     "metadata": {
      "needs_background": "light"
     },
     "output_type": "display_data"
    },
    {
     "name": "stdout",
     "output_type": "stream",
     "text": [
      "36\n",
      "tensor(-7.9097e-13) tensor(3.9148e-13)\n"
     ]
    },
    {
     "data": {
      "image/png": "[encoded data removed]",
      "text/plain": [
       "<Figure size 432x288 with 1 Axes>"
      ]
     },
     "metadata": {
      "needs_background": "light"
     },
     "output_type": "display_data"
    },
    {
     "name": "stderr",
     "output_type": "stream",
     "text": [
      "Clipping input data to the valid range for imshow with RGB data ([0..1] for floats or [0..255] for integers).\n"
     ]
    },
    {
     "data": {
      "image/png": "[encoded data removed]",
      "text/plain": [
       "<Figure size 432x288 with 1 Axes>"
      ]
     },
     "metadata": {
      "needs_background": "light"
     },
     "output_type": "display_data"
    },
    {
     "name": "stdout",
     "output_type": "stream",
     "text": [
      "6\n",
      "tensor(-7.7293e-05) tensor(3.0113e-05)\n"
     ]
    },
    {
     "data": {
      "image/png": "[encoded data removed]",
      "text/plain": [
       "<Figure size 432x288 with 1 Axes>"
      ]
     },
     "metadata": {
      "needs_background": "light"
     },
     "output_type": "display_data"
    },
    {
     "name": "stderr",
     "output_type": "stream",
     "text": [
      "Clipping input data to the valid range for imshow with RGB data ([0..1] for floats or [0..255] for integers).\n"
     ]
    },
    {
     "data": {
      "image/png": "[encoded data removed]",
      "text/plain": [
       "<Figure size 432x288 with 1 Axes>"
      ]
     },
     "metadata": {
      "needs_background": "light"
     },
     "output_type": "display_data"
    },
    {
     "name": "stdout",
     "output_type": "stream",
     "text": [
      "47\n",
      "tensor(-9.3803e-11) tensor(2.4932e-11)\n"
     ]
    },
    {
     "data": {
      "image/png": "[encoded data removed]",
      "text/plain": [
       "<Figure size 432x288 with 1 Axes>"
      ]
     },
     "metadata": {
      "needs_background": "light"
     },
     "output_type": "display_data"
    },
    {
     "name": "stderr",
     "output_type": "stream",
     "text": [
      "Clipping input data to the valid range for imshow with RGB data ([0..1] for floats or [0..255] for integers).\n"
     ]
    },
    {
     "data": {
      "image/png": "[encoded data removed]",
      "text/plain": [
       "<Figure size 432x288 with 1 Axes>"
      ]
     },
     "metadata": {
      "needs_background": "light"
     },
     "output_type": "display_data"
    },
    {
     "name": "stdout",
     "output_type": "stream",
     "text": [
      "6\n",
      "tensor(-7.7293e-05) tensor(3.0113e-05)\n"
     ]
    },
    {
     "data": {
      "image/png": "[encoded data removed]",
      "text/plain": [
       "<Figure size 432x288 with 1 Axes>"
      ]
     },
     "metadata": {
      "needs_background": "light"
     },
     "output_type": "display_data"
    },
    {
     "name": "stderr",
     "output_type": "stream",
     "text": [
      "Clipping input data to the valid range for imshow with RGB data ([0..1] for floats or [0..255] for integers).\n"
     ]
    },
    {
     "data": {
      "image/png": "[encoded data removed]",
      "text/plain": [
       "<Figure size 432x288 with 1 Axes>"
      ]
     },
     "metadata": {
      "needs_background": "light"
     },
     "output_type": "display_data"
    },
    {
     "name": "stdout",
     "output_type": "stream",
     "text": [
      "51\n",
      "tensor(0.) tensor(0.)\n"
     ]
    },
    {
     "data": {
      "image/png": "[encoded data removed]",
      "text/plain": [
       "<Figure size 432x288 with 1 Axes>"
      ]
     },
     "metadata": {
      "needs_background": "light"
     },
     "output_type": "display_data"
    },
    {
     "data": {
      "image/png": "[encoded data removed]",
      "text/plain": [
       "<Figure size 432x288 with 1 Axes>"
      ]
     },
     "metadata": {
      "needs_background": "light"
     },
     "output_type": "display_data"
    },
    {
     "name": "stdout",
     "output_type": "stream",
     "text": [
      "19\n",
      "tensor(-3.2900e-13) tensor(1.6284e-13)\n"
     ]
    },
    {
     "data": {
      "image/png": "[encoded data removed]",
      "text/plain": [
       "<Figure size 432x288 with 1 Axes>"
      ]
     },
     "metadata": {
      "needs_background": "light"
     },
     "output_type": "display_data"
    },
    {
     "name": "stderr",
     "output_type": "stream",
     "text": [
      "Clipping input data to the valid range for imshow with RGB data ([0..1] for floats or [0..255] for integers).\n"
     ]
    },
    {
     "data": {
      "image/png": "[encoded data removed]",
      "text/plain": [
       "<Figure size 432x288 with 1 Axes>"
      ]
     },
     "metadata": {
      "needs_background": "light"
     },
     "output_type": "display_data"
    },
    {
     "name": "stdout",
     "output_type": "stream",
     "text": [
      "55\n",
      "tensor(-3.3532e-12) tensor(1.6596e-12)\n"
     ]
    },
    {
     "data": {
      "image/png": "[encoded data removed]",
      "text/plain": [
       "<Figure size 432x288 with 1 Axes>"
      ]
     },
     "metadata": {
      "needs_background": "light"
     },
     "output_type": "display_data"
    },
    {
     "name": "stderr",
     "output_type": "stream",
     "text": [
      "Clipping input data to the valid range for imshow with RGB data ([0..1] for floats or [0..255] for integers).\n"
     ]
    },
    {
     "data": {
      "image/png": "[encoded data removed]",
      "text/plain": [
       "<Figure size 432x288 with 1 Axes>"
      ]
     },
     "metadata": {
      "needs_background": "light"
     },
     "output_type": "display_data"
    }
   ],
   "source": [
    "with torch.no_grad():\n",
    "    \n",
    "    for i in range(10):\n",
    "        idx = random.randint(0,64)\n",
    "        print(idx)\n",
    "        input_image = inputs[idx].transpose(0, 1).transpose(1, 2)/256\n",
    "        output = outputs[idx].transpose(0, 1).transpose(1, 2)/256\n",
    "        output = output.cpu()\n",
    "        print(output.min(), output.max())\n",
    "\n",
    "        plt.imshow(input_image)\n",
    "        plt.show()\n",
    "        plt.imshow(output)\n",
    "        plt.show()"
   ]
  },
  {
   "cell_type": "code",
   "execution_count": 10,
   "id": "c7366eca",
   "metadata": {},
   "outputs": [],
   "source": [
    "# model training\n",
    "\n",
    "net = get_model(args.model, args.width, args.depth)\n",
    "start_epoch = 0\n",
    "optimizer_state_dict = None\n",
    "\n",
    "net = net.to(device)\n",
    "pytorch_total_params = sum(p.numel() for p in net.parameters())\n",
    "optimizer = get_optimizer(args.optimizer, args.model, net, args.lr)\n"
   ]
  },
  {
   "cell_type": "code",
   "execution_count": 11,
   "id": "790e3a1c",
   "metadata": {},
   "outputs": [
    {
     "name": "stderr",
     "output_type": "stream",
     "text": [
      "                                                                                                        \r"
     ]
    },
    {
     "name": "stdout",
     "output_type": "stream",
     "text": [
      "torch.Size([64, 3, 32, 32])\n"
     ]
    },
    {
     "ename": "RuntimeError",
     "evalue": "expected scalar type Double but found Float",
     "output_type": "error",
     "traceback": [
      "\u001b[0;31m---------------------------------------------------------------------------\u001b[0m",
      "\u001b[0;31mRuntimeError\u001b[0m                              Traceback (most recent call last)",
      "\u001b[0;32m/tmp/ipykernel_20057/3656920973.py\u001b[0m in \u001b[0;36m<module>\u001b[0;34m\u001b[0m\n\u001b[1;32m     26\u001b[0m     \u001b[0mprint\u001b[0m\u001b[0;34m(\u001b[0m\u001b[0mtargets\u001b[0m\u001b[0;34m.\u001b[0m\u001b[0mshape\u001b[0m\u001b[0;34m)\u001b[0m\u001b[0;34m\u001b[0m\u001b[0;34m\u001b[0m\u001b[0m\n\u001b[1;32m     27\u001b[0m \u001b[0;31m#     optimizer.zero_grad()\u001b[0m\u001b[0;34m\u001b[0m\u001b[0;34m\u001b[0m\u001b[0;34m\u001b[0m\u001b[0m\n\u001b[0;32m---> 28\u001b[0;31m     \u001b[0moutputs\u001b[0m \u001b[0;34m=\u001b[0m \u001b[0mnet\u001b[0m\u001b[0;34m(\u001b[0m\u001b[0minputs\u001b[0m\u001b[0;34m)\u001b[0m\u001b[0;34m\u001b[0m\u001b[0;34m\u001b[0m\u001b[0m\n\u001b[0m\u001b[1;32m     29\u001b[0m \u001b[0;34m\u001b[0m\u001b[0m\n\u001b[1;32m     30\u001b[0m     \u001b[0;32mbreak\u001b[0m\u001b[0;34m\u001b[0m\u001b[0;34m\u001b[0m\u001b[0m\n",
      "\u001b[0;32m/fs/clip-quiz/amao/miniconda3/envs/easy-to-hard/lib/python3.7/site-packages/torch/nn/modules/module.py\u001b[0m in \u001b[0;36m_call_impl\u001b[0;34m(self, *input, **kwargs)\u001b[0m\n\u001b[1;32m    725\u001b[0m             \u001b[0mresult\u001b[0m \u001b[0;34m=\u001b[0m \u001b[0mself\u001b[0m\u001b[0;34m.\u001b[0m\u001b[0m_slow_forward\u001b[0m\u001b[0;34m(\u001b[0m\u001b[0;34m*\u001b[0m\u001b[0minput\u001b[0m\u001b[0;34m,\u001b[0m \u001b[0;34m**\u001b[0m\u001b[0mkwargs\u001b[0m\u001b[0;34m)\u001b[0m\u001b[0;34m\u001b[0m\u001b[0;34m\u001b[0m\u001b[0m\n\u001b[1;32m    726\u001b[0m         \u001b[0;32melse\u001b[0m\u001b[0;34m:\u001b[0m\u001b[0;34m\u001b[0m\u001b[0;34m\u001b[0m\u001b[0m\n\u001b[0;32m--> 727\u001b[0;31m             \u001b[0mresult\u001b[0m \u001b[0;34m=\u001b[0m \u001b[0mself\u001b[0m\u001b[0;34m.\u001b[0m\u001b[0mforward\u001b[0m\u001b[0;34m(\u001b[0m\u001b[0;34m*\u001b[0m\u001b[0minput\u001b[0m\u001b[0;34m,\u001b[0m \u001b[0;34m**\u001b[0m\u001b[0mkwargs\u001b[0m\u001b[0;34m)\u001b[0m\u001b[0;34m\u001b[0m\u001b[0;34m\u001b[0m\u001b[0m\n\u001b[0m\u001b[1;32m    728\u001b[0m         for hook in itertools.chain(\n\u001b[1;32m    729\u001b[0m                 \u001b[0m_global_forward_hooks\u001b[0m\u001b[0;34m.\u001b[0m\u001b[0mvalues\u001b[0m\u001b[0;34m(\u001b[0m\u001b[0;34m)\u001b[0m\u001b[0;34m,\u001b[0m\u001b[0;34m\u001b[0m\u001b[0;34m\u001b[0m\u001b[0m\n",
      "\u001b[0;32m/fs/clip-quiz/amao/Github/easy-to-hard/denoise/models/recur_resnet_segment.py\u001b[0m in \u001b[0;36mforward\u001b[0;34m(self, x)\u001b[0m\n\u001b[1;32m     70\u001b[0m         \u001b[0mself\u001b[0m\u001b[0;34m.\u001b[0m\u001b[0mthoughts\u001b[0m \u001b[0;34m=\u001b[0m \u001b[0mtorch\u001b[0m\u001b[0;34m.\u001b[0m\u001b[0mzeros\u001b[0m\u001b[0;34m(\u001b[0m\u001b[0;34m(\u001b[0m\u001b[0mself\u001b[0m\u001b[0;34m.\u001b[0m\u001b[0miters\u001b[0m\u001b[0;34m,\u001b[0m \u001b[0mx\u001b[0m\u001b[0;34m.\u001b[0m\u001b[0mshape\u001b[0m\u001b[0;34m[\u001b[0m\u001b[0;36m0\u001b[0m\u001b[0;34m]\u001b[0m\u001b[0;34m,\u001b[0m \u001b[0;36m3\u001b[0m\u001b[0;34m,\u001b[0m \u001b[0mx\u001b[0m\u001b[0;34m.\u001b[0m\u001b[0mshape\u001b[0m\u001b[0;34m[\u001b[0m\u001b[0;36m2\u001b[0m\u001b[0;34m]\u001b[0m\u001b[0;34m,\u001b[0m \u001b[0mx\u001b[0m\u001b[0;34m.\u001b[0m\u001b[0mshape\u001b[0m\u001b[0;34m[\u001b[0m\u001b[0;36m3\u001b[0m\u001b[0;34m]\u001b[0m\u001b[0;34m)\u001b[0m\u001b[0;34m)\u001b[0m\u001b[0;34m.\u001b[0m\u001b[0mto\u001b[0m\u001b[0;34m(\u001b[0m\u001b[0mx\u001b[0m\u001b[0;34m.\u001b[0m\u001b[0mdevice\u001b[0m\u001b[0;34m)\u001b[0m\u001b[0;34m\u001b[0m\u001b[0;34m\u001b[0m\u001b[0m\n\u001b[1;32m     71\u001b[0m \u001b[0;34m\u001b[0m\u001b[0m\n\u001b[0;32m---> 72\u001b[0;31m         \u001b[0mout\u001b[0m \u001b[0;34m=\u001b[0m \u001b[0mF\u001b[0m\u001b[0;34m.\u001b[0m\u001b[0mrelu\u001b[0m\u001b[0;34m(\u001b[0m\u001b[0mself\u001b[0m\u001b[0;34m.\u001b[0m\u001b[0mconv1\u001b[0m\u001b[0;34m(\u001b[0m\u001b[0mx\u001b[0m\u001b[0;34m)\u001b[0m\u001b[0;34m)\u001b[0m\u001b[0;34m\u001b[0m\u001b[0;34m\u001b[0m\u001b[0m\n\u001b[0m\u001b[1;32m     73\u001b[0m         \u001b[0;32mfor\u001b[0m \u001b[0mi\u001b[0m \u001b[0;32min\u001b[0m \u001b[0mrange\u001b[0m\u001b[0;34m(\u001b[0m\u001b[0mself\u001b[0m\u001b[0;34m.\u001b[0m\u001b[0miters\u001b[0m\u001b[0;34m)\u001b[0m\u001b[0;34m:\u001b[0m\u001b[0;34m\u001b[0m\u001b[0;34m\u001b[0m\u001b[0m\n\u001b[1;32m     74\u001b[0m             \u001b[0mout\u001b[0m \u001b[0;34m=\u001b[0m \u001b[0mself\u001b[0m\u001b[0;34m.\u001b[0m\u001b[0mrecur_block\u001b[0m\u001b[0;34m(\u001b[0m\u001b[0mout\u001b[0m\u001b[0;34m)\u001b[0m\u001b[0;34m\u001b[0m\u001b[0;34m\u001b[0m\u001b[0m\n",
      "\u001b[0;32m/fs/clip-quiz/amao/miniconda3/envs/easy-to-hard/lib/python3.7/site-packages/torch/nn/modules/module.py\u001b[0m in \u001b[0;36m_call_impl\u001b[0;34m(self, *input, **kwargs)\u001b[0m\n\u001b[1;32m    725\u001b[0m             \u001b[0mresult\u001b[0m \u001b[0;34m=\u001b[0m \u001b[0mself\u001b[0m\u001b[0;34m.\u001b[0m\u001b[0m_slow_forward\u001b[0m\u001b[0;34m(\u001b[0m\u001b[0;34m*\u001b[0m\u001b[0minput\u001b[0m\u001b[0;34m,\u001b[0m \u001b[0;34m**\u001b[0m\u001b[0mkwargs\u001b[0m\u001b[0;34m)\u001b[0m\u001b[0;34m\u001b[0m\u001b[0;34m\u001b[0m\u001b[0m\n\u001b[1;32m    726\u001b[0m         \u001b[0;32melse\u001b[0m\u001b[0;34m:\u001b[0m\u001b[0;34m\u001b[0m\u001b[0;34m\u001b[0m\u001b[0m\n\u001b[0;32m--> 727\u001b[0;31m             \u001b[0mresult\u001b[0m \u001b[0;34m=\u001b[0m \u001b[0mself\u001b[0m\u001b[0;34m.\u001b[0m\u001b[0mforward\u001b[0m\u001b[0;34m(\u001b[0m\u001b[0;34m*\u001b[0m\u001b[0minput\u001b[0m\u001b[0;34m,\u001b[0m \u001b[0;34m**\u001b[0m\u001b[0mkwargs\u001b[0m\u001b[0;34m)\u001b[0m\u001b[0;34m\u001b[0m\u001b[0;34m\u001b[0m\u001b[0m\n\u001b[0m\u001b[1;32m    728\u001b[0m         for hook in itertools.chain(\n\u001b[1;32m    729\u001b[0m                 \u001b[0m_global_forward_hooks\u001b[0m\u001b[0;34m.\u001b[0m\u001b[0mvalues\u001b[0m\u001b[0;34m(\u001b[0m\u001b[0;34m)\u001b[0m\u001b[0;34m,\u001b[0m\u001b[0;34m\u001b[0m\u001b[0;34m\u001b[0m\u001b[0m\n",
      "\u001b[0;32m/fs/clip-quiz/amao/miniconda3/envs/easy-to-hard/lib/python3.7/site-packages/torch/nn/modules/conv.py\u001b[0m in \u001b[0;36mforward\u001b[0;34m(self, input)\u001b[0m\n\u001b[1;32m    421\u001b[0m \u001b[0;34m\u001b[0m\u001b[0m\n\u001b[1;32m    422\u001b[0m     \u001b[0;32mdef\u001b[0m \u001b[0mforward\u001b[0m\u001b[0;34m(\u001b[0m\u001b[0mself\u001b[0m\u001b[0;34m,\u001b[0m \u001b[0minput\u001b[0m\u001b[0;34m:\u001b[0m \u001b[0mTensor\u001b[0m\u001b[0;34m)\u001b[0m \u001b[0;34m->\u001b[0m \u001b[0mTensor\u001b[0m\u001b[0;34m:\u001b[0m\u001b[0;34m\u001b[0m\u001b[0;34m\u001b[0m\u001b[0m\n\u001b[0;32m--> 423\u001b[0;31m         \u001b[0;32mreturn\u001b[0m \u001b[0mself\u001b[0m\u001b[0;34m.\u001b[0m\u001b[0m_conv_forward\u001b[0m\u001b[0;34m(\u001b[0m\u001b[0minput\u001b[0m\u001b[0;34m,\u001b[0m \u001b[0mself\u001b[0m\u001b[0;34m.\u001b[0m\u001b[0mweight\u001b[0m\u001b[0;34m)\u001b[0m\u001b[0;34m\u001b[0m\u001b[0;34m\u001b[0m\u001b[0m\n\u001b[0m\u001b[1;32m    424\u001b[0m \u001b[0;34m\u001b[0m\u001b[0m\n\u001b[1;32m    425\u001b[0m \u001b[0;32mclass\u001b[0m \u001b[0mConv3d\u001b[0m\u001b[0;34m(\u001b[0m\u001b[0m_ConvNd\u001b[0m\u001b[0;34m)\u001b[0m\u001b[0;34m:\u001b[0m\u001b[0;34m\u001b[0m\u001b[0;34m\u001b[0m\u001b[0m\n",
      "\u001b[0;32m/fs/clip-quiz/amao/miniconda3/envs/easy-to-hard/lib/python3.7/site-packages/torch/nn/modules/conv.py\u001b[0m in \u001b[0;36m_conv_forward\u001b[0;34m(self, input, weight)\u001b[0m\n\u001b[1;32m    418\u001b[0m                             _pair(0), self.dilation, self.groups)\n\u001b[1;32m    419\u001b[0m         return F.conv2d(input, weight, self.bias, self.stride,\n\u001b[0;32m--> 420\u001b[0;31m                         self.padding, self.dilation, self.groups)\n\u001b[0m\u001b[1;32m    421\u001b[0m \u001b[0;34m\u001b[0m\u001b[0m\n\u001b[1;32m    422\u001b[0m     \u001b[0;32mdef\u001b[0m \u001b[0mforward\u001b[0m\u001b[0;34m(\u001b[0m\u001b[0mself\u001b[0m\u001b[0;34m,\u001b[0m \u001b[0minput\u001b[0m\u001b[0;34m:\u001b[0m \u001b[0mTensor\u001b[0m\u001b[0;34m)\u001b[0m \u001b[0;34m->\u001b[0m \u001b[0mTensor\u001b[0m\u001b[0;34m:\u001b[0m\u001b[0;34m\u001b[0m\u001b[0;34m\u001b[0m\u001b[0m\n",
      "\u001b[0;31mRuntimeError\u001b[0m: expected scalar type Double but found Float"
     ]
    }
   ],
   "source": [
    "# def train_default(net, trainloader, optimizer_obj, device):\n",
    "\n",
    "net.train()\n",
    "net = net.to(device)\n",
    "# optimizer = optimizer_obj.optimizer\n",
    "# lr_scheduler = optimizer_obj.scheduler\n",
    "# warmup_scheduler = optimizer_obj.warmup\n",
    "\n",
    "# warmup_scheduler = warmup.ExponentialWarmup(optimizer, warmup_period=args.warmup_period)\n",
    "\n",
    "# lr_scheduler = MultiStepLR(optimizer, milestones=args.lr_schedule, gamma=args.lr_factor,\n",
    "#                        last_epoch=start_epoch-1)\n",
    "\n",
    "# optimizer_obj = OptimizerWithSched(optimizer, lr_scheduler, warmup_scheduler)\n",
    "    \n",
    "# criterion = torch.nn.CrossEntropyLoss()\n",
    "criterion = torch.nn.MSELoss()\n",
    "\n",
    "train_loss = 0\n",
    "correct = 0\n",
    "total = 0\n",
    "total_pixels = 0\n",
    "\n",
    "for batch_idx, (inputs, targets) in enumerate(tqdm(trainloader, leave=False)):\n",
    "    inputs, targets = inputs.to(device), targets.to(device)\n",
    "    print(targets.shape)\n",
    "#     optimizer.zero_grad()\n",
    "    outputs = net(inputs)\n",
    "\n",
    "    break\n",
    "\n"
   ]
  },
  {
   "cell_type": "code",
   "execution_count": null,
   "id": "96520bcb",
   "metadata": {},
   "outputs": [],
   "source": [
    "targets = targets.float()\n",
    "display(outputs.dtype)\n",
    "display(targets.dtype)\n",
    "# print(net.dtype)"
   ]
  },
  {
   "cell_type": "code",
   "execution_count": null,
   "id": "b9a12836",
   "metadata": {},
   "outputs": [],
   "source": [
    "targets.size(0)"
   ]
  },
  {
   "cell_type": "code",
   "execution_count": null,
   "id": "400f8a47",
   "metadata": {},
   "outputs": [],
   "source": [
    "print(outputs.shape)\n",
    "print(targets.shape)"
   ]
  },
  {
   "cell_type": "code",
   "execution_count": null,
   "id": "583e6c67",
   "metadata": {},
   "outputs": [],
   "source": [
    "# n, c, h, w = outputs.size()\n",
    "# print(outputs.shape)\n",
    "# reshaped_outputs = outputs.transpose(1, 2).transpose(2, 3).contiguous()\n",
    "# print(reshaped_outputs.shape)\n",
    "# # reshaped_outputs = reshaped_outputs[targets.view(n, h, w, 1).repeat(1, 1, 1, c) >= 0]\n",
    "# # print(reshaped_outputs.shape)\n",
    "# reshaped_outputs = reshaped_outputs.view(-1, c)\n",
    "# print(reshaped_outputs.shape)\n",
    "\n"
   ]
  },
  {
   "cell_type": "code",
   "execution_count": null,
   "id": "2a82bc07",
   "metadata": {},
   "outputs": [],
   "source": [
    "# # reshaped_inputs = inputs.transpose(1, 2).transpose(2, 3).contiguous()\n",
    "# # reshaped_inputs = reshaped_inputs.mean(3).unsqueeze(-1)\n",
    "# # reshaped_inputs = reshaped_inputs[targets.view(n, h, w, 1).repeat(1, 1, 1, 1) >= 0]\n",
    "# # reshaped_inputs = reshaped_inputs.view(-1, 1)\n",
    "# # path_mask = (reshaped_inputs > 0).squeeze()\n",
    "\n",
    "# # mask = targets >= 0.0\n",
    "# # reshaped_targets = targets[mask]\n",
    "\n",
    "# reshaped_targets = targets.transpose(1, 2).transpose(2, 3).contiguous()\n",
    "# reshaped_targets = reshaped_targets.view(-1, c)\n",
    "\n",
    "\n",
    "# print(reshaped_outputs.shape)\n",
    "# print(reshaped_targets.shape)"
   ]
  },
  {
   "cell_type": "code",
   "execution_count": null,
   "id": "98559c74",
   "metadata": {},
   "outputs": [],
   "source": [
    "\n",
    "loss = criterion(outputs, targets)\n",
    "display(loss)\n",
    "loss.backward()\n",
    "\n",
    "# loss = criterion(reshaped_outputs.view(-1, 2), targets.view(-1))\n",
    "\n",
    "    \n",
    "#         loss = loss[path_mask].mean()\n",
    "#         loss.backward()\n",
    "#         optimizer.step()\n",
    "\n",
    "#         train_loss += loss.item() * path_mask.size(0)\n",
    "#         total_pixels += path_mask.size(0)\n",
    "\n",
    "#         predicted = outputs.argmax(1) * inputs.max(1)[0]\n",
    "#         correct += torch.amin(predicted == targets, dim=[1, 2]).sum().item()\n",
    "#         total += targets.size(0)\n",
    "\n",
    "#     train_loss = train_loss / total_pixels\n",
    "#     acc = 100.0 * correct / total\n",
    "#     lr_scheduler.step()\n",
    "#     warmup_scheduler.dampen()\n",
    "\n",
    "#     return train_loss, acc"
   ]
  },
  {
   "cell_type": "code",
   "execution_count": null,
   "id": "ab385301",
   "metadata": {},
   "outputs": [],
   "source": [
    "print(outputs.shape)\n",
    "predicted = outputs.argmax(1)\n",
    "print(predicted.shape, targets.shape)\n",
    "\n",
    "correct += torch.amin(predicted == targets, dim=[1, 2]).sum().item()"
   ]
  },
  {
   "cell_type": "code",
   "execution_count": null,
   "id": "bfccf034",
   "metadata": {},
   "outputs": [],
   "source": [
    "# visualize predictions \n",
    "\n",
    "import json\n",
    "import pandas as pd\n",
    "\n",
    "test_results_path = \"test/test_stats.json\"\n",
    "\n",
    "with open(test_results_path) as f:\n",
    "    test_results = json.load(f)\n",
    "\n",
    "# print(test_results['num entries'])\n",
    "del test_results['num entries']\n",
    "\n",
    "df = pd.DataFrame.from_records(list(test_results.values()))\n",
    "df"
   ]
  },
  {
   "cell_type": "code",
   "execution_count": null,
   "id": "4b0ba662",
   "metadata": {},
   "outputs": [],
   "source": []
  },
  {
   "cell_type": "code",
   "execution_count": null,
   "id": "1dba88c4",
   "metadata": {},
   "outputs": [],
   "source": [
    "import matplotlib.pyplot as plt\n",
    "\n",
    "ff_results = df[df['test_iter']==-1]\n",
    "ff_results['effective_depth'] = ff_results['model'].str.slice(13,15).astype(int)\n",
    "\n",
    "rnn_results = df[df['test_iter']>0]\n",
    "# rnn_results['effective_depth'] = rnn_results['model'].str.slice(16,18)\n",
    "\n",
    "plt.figure()\n",
    "# plt.subplot(211)\n",
    "plt.plot( \n",
    "         rnn_results['test_iter']*4, rnn_results['test_acc'], \n",
    "         ff_results['effective_depth'], ff_results['test_acc'],)\n",
    "\n",
    "\n",
    "# rnn_results.plot('test_iter',['test_acc'])\n",
    "# rnn_results.plot('test_iter',['eval_acc'])"
   ]
  },
  {
   "cell_type": "code",
   "execution_count": null,
   "id": "64a1fb89",
   "metadata": {},
   "outputs": [],
   "source": [
    "# visualize images\n",
    "\n"
   ]
  }
 ],
 "metadata": {
  "kernelspec": {
   "display_name": "Python [conda env:easy-to-hard]",
   "language": "python",
   "name": "conda-env-easy-to-hard-py"
  },
  "language_info": {
   "codemirror_mode": {
    "name": "ipython",
    "version": 3
   },
   "file_extension": ".py",
   "mimetype": "text/x-python",
   "name": "python",
   "nbconvert_exporter": "python",
   "pygments_lexer": "ipython3",
   "version": "3.7.11"
  }
 },
 "nbformat": 4,
 "nbformat_minor": 5
}
