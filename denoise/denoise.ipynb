{
 "cells": [
  {
   "cell_type": "code",
   "execution_count": 1,
   "id": "113d023a",
   "metadata": {},
   "outputs": [
    {
     "name": "stdout",
     "output_type": "stream",
     "text": [
      "Loading data with 0.1 bits.\n",
      "<class 'torch.Tensor'> <class 'torch.Tensor'>\n",
      "Training data using pre-set indices [0, 8000).\n"
     ]
    },
    {
     "data": {
      "text/plain": [
       "10000"
      ]
     },
     "execution_count": 1,
     "metadata": {},
     "output_type": "execute_result"
    }
   ],
   "source": [
    "import os\n",
    "import torch\n",
    "\n",
    "# from easy_to_hard_data import *\n",
    "\n",
    "import errno\n",
    "import os\n",
    "import os.path\n",
    "import tarfile\n",
    "import urllib.request as ur\n",
    "from typing import Optional, Callable\n",
    "\n",
    "import numpy as np\n",
    "import torch\n",
    "from tqdm import tqdm\n",
    "\n",
    "GBFACTOR = float(1 << 30)\n",
    "\n",
    "\n",
    "def extract_zip(path, folder):\n",
    "    file = tarfile.open(path)\n",
    "    file.extractall(folder)\n",
    "    file.close\n",
    "\n",
    "\n",
    "def download_url(url, folder):\n",
    "    filename = url.rpartition('/')[2]\n",
    "    path = os.path.join(folder, filename)\n",
    "\n",
    "    if os.path.exists(path) and os.path.getsize(path) > 0:\n",
    "        print('Using existing file', filename)\n",
    "        return path\n",
    "    print('Downloading', url)\n",
    "    makedirs(folder)\n",
    "    # track downloads\n",
    "#     ur.urlopen(f\"http://avi.koplon.com/hit_counter.py?next={url}\")\n",
    "    data = ur.urlopen(url)\n",
    "    print(data.info())\n",
    "    size = int(data.info()[\"Content-Length\"])\n",
    "    chunk_size = 1024*1024\n",
    "    num_iter = int(size/chunk_size) + 2\n",
    "\n",
    "    downloaded_size = 0\n",
    "\n",
    "    try:\n",
    "        with open(path, 'wb') as f:\n",
    "            pbar = tqdm(range(num_iter))\n",
    "            for i in pbar:\n",
    "                chunk = data.read(chunk_size)\n",
    "                downloaded_size += len(chunk)\n",
    "                pbar.set_description(\"Downloaded {:.2f} GB\".format(float(downloaded_size)/GBFACTOR))\n",
    "                f.write(chunk)\n",
    "    except:\n",
    "        if os.path.exists(path):\n",
    "             os.remove(path)\n",
    "        raise RuntimeError('Stopped downloading due to interruption.')\n",
    "\n",
    "    return path\n",
    "\n",
    "\n",
    "def makedirs(path):\n",
    "    try:\n",
    "        os.makedirs(os.path.expanduser(os.path.normpath(path)))\n",
    "    except OSError as e:\n",
    "        if e.errno != errno.EEXIST and os.path.isdir(path):\n",
    "            raise e\n",
    "            \n",
    "\n",
    "class NoisyImageDataset(torch.utils.data.Dataset):\n",
    "    base_folder = \"noisy_image_data\"\n",
    "    url = \"https://www.dropbox.com/s/gamc8j5vqbvushj/noisy_image_data.tar.gz\"\n",
    "    lengths = [0.1,0.2,0.3,0.4,0.5]\n",
    "    download_list = [f\"data_{l}.pth\" for l in lengths] + [f\"targets_{l}.pth\" for l in lengths]\n",
    "\n",
    "    def __init__(self, root: str, num_bits: float = 0.1, download: bool = True, train: bool = True):\n",
    "\n",
    "        self.root = root\n",
    "\n",
    "#         if download:\n",
    "#             self.download()\n",
    "\n",
    "        print(f\"Loading data with {num_bits} bits.\")\n",
    "\n",
    "        targets_path = os.path.join(root, self.base_folder, f\"data_{num_bits}.pth\")\n",
    "        inputs_path = os.path.join(root, self.base_folder, f\"targets_{num_bits}.pth\")\n",
    "        self.inputs = torch.tensor(torch.load(inputs_path), dtype=torch.float64)\n",
    "        self.targets = torch.load(targets_path)\n",
    "        print(type(self.inputs), type(self.targets))\n",
    "        self.train = train\n",
    "\n",
    "        if train:\n",
    "            print(\"Training data using pre-set indices [0, 8000).\")\n",
    "            idx_start = 0\n",
    "            idx_end = 8000\n",
    "        else:\n",
    "            print(\"Testing data using pre-set indices [8000, 10000).\")\n",
    "            idx_start = 8000\n",
    "            idx_end = 10000\n",
    "\n",
    "    def __getitem__(self, index):\n",
    "        return self.inputs[index], self.targets[index]\n",
    "\n",
    "    def __len__(self):\n",
    "        return self.inputs.size(0)\n",
    "\n",
    "    def _check_integrity(self) -> bool:\n",
    "        root = self.root\n",
    "        for fentry in self.download_list:\n",
    "            fpath = os.path.join(root, self.base_folder, fentry)\n",
    "            if not os.path.exists(fpath):\n",
    "                return False\n",
    "        return True\n",
    "\n",
    "    # def download(self) -> None:\n",
    "    #     if self._check_integrity():\n",
    "    #         print('Files already downloaded and verified')\n",
    "    #         return\n",
    "    #     path = download_url(self.url, self.root)\n",
    "    #     extract_zip(path, self.root)\n",
    "    #     os.unlink(path)\n",
    "        \n",
    "        \n",
    "data = NoisyImageDataset(\"data\")\n",
    "\n",
    "len(data)"
   ]
  },
  {
   "cell_type": "code",
   "execution_count": 2,
   "id": "d4d76497",
   "metadata": {},
   "outputs": [],
   "source": [
    "import argparse\n",
    "\n",
    "parser = argparse.ArgumentParser(description=\"Deep Thinking\")\n",
    "parser.add_argument(\"--checkpoint\", default=\"check_default\", type=str,\n",
    "                    help=\"where to save the network\")\n",
    "parser.add_argument(\"--data_path\", default=\"../data\", type=str, help=\"path to data files\")\n",
    "parser.add_argument(\"--depth\", default=1, type=int, help=\"depth of the network\")\n",
    "parser.add_argument(\"--epochs\", default=200, type=int, help=\"number of epochs for training\")\n",
    "parser.add_argument(\"--eval_end\", default=700000, type=int, help=\"end index for eval data\")\n",
    "parser.add_argument(\"--eval_start\", default=600000, type=int,\n",
    "                    help=\"start index for eval data\")\n",
    "parser.add_argument(\"--hist\", action=\"store_true\", help=\"save histogram history?\")\n",
    "parser.add_argument(\"--lr\", default=0.1, type=float, help=\"learning rate\")\n",
    "parser.add_argument(\"--lr_decay\", default=\"step\", type=str, help=\"which kind of lr decay\")\n",
    "parser.add_argument(\"--lr_factor\", default=0.1, type=float, help=\"learning rate decay factor\")\n",
    "parser.add_argument(\"--lr_schedule\", nargs=\"+\", default=[100, 150], type=int,\n",
    "                    help=\"how often to decrease lr\")\n",
    "parser.add_argument(\"--model\", default=\"perceiver\", type=str, help=\"model for training\")\n",
    "parser.add_argument(\"--model_path\", default=None, type=str, help=\"where is the model saved?\")\n",
    "parser.add_argument(\"--no_shuffle\", action=\"store_false\", dest=\"shuffle\",\n",
    "                    help=\"shuffle training data?\")\n",
    "parser.add_argument(\"--optimizer\", default=\"adam\", type=str, help=\"optimizer\")\n",
    "parser.add_argument(\"--output\", default=\"output_default\", type=str, help=\"output subdirectory\")\n",
    "parser.add_argument(\"--quick_test\", action=\"store_true\", help=\"only test on eval data\")\n",
    "parser.add_argument(\"--save_json\", action=\"store_true\", help=\"save json\")\n",
    "parser.add_argument(\"--save_period\", default=None, type=int, help=\"how often to save\")\n",
    "parser.add_argument(\"--test_batch_size\", default=500, type=int, help=\"batch size for testing\")\n",
    "parser.add_argument(\"--test_iterations\", default=None, type=int,\n",
    "                    help=\"how many, if testing with a different number iterations\")\n",
    "parser.add_argument(\"--test_mode\", default=\"default\", type=str, help=\"testing mode\")\n",
    "parser.add_argument(\"--train_batch_size\", default=128, type=int,\n",
    "                    help=\"batch size for training\")\n",
    "parser.add_argument(\"--train_log\", default=\"train_log.txt\", type=str,\n",
    "                    help=\"name of the log file\")\n",
    "parser.add_argument(\"--train_mode\", default=\"default\", type=str, help=\"training mode\")\n",
    "parser.add_argument(\"--val_period\", default=20, type=int, help=\"how often to validate\")\n",
    "parser.add_argument(\"--warmup_period\", default=5, type=int, help=\"warmup period\")\n",
    "parser.add_argument(\"--width\", default=4, type=int, help=\"width of the network\")\n",
    "\n",
    "OUTPUT=\"test\"\n",
    "#RNN_MODEL_PATH=\"check_default/recur_resnet_adam_depth=28_width=2_lr=0.1_batchsize=64_at19_epoch=19_log.pth\"\n",
    "# RNN_MODEL_PATH=\"checkpoints/recur_resnet_adam_depth=28_width=2_lr=0.1_batchsize=64_at0_epoch=0_log.pth\"\n",
    "#RNN_MODEL_PATH=\"check_default/recur_resnet_adam_depth=28_width=2_lr=0.1_batchsize=64_at4_epoch=4_log.pth\"\n",
    "RNN_MODEL_PATH=\"check_default/recur_resnet_adam_depth=28_width=2_lr=0.0001_batchsize=64_at9_epoch=9_log.pth\"\n",
    "\n",
    "args_str = f\"\"\"\n",
    "--save_json \\\n",
    "--output {OUTPUT} \\\n",
    "--model recur_resnet \\\n",
    "--epochs 0 \\\n",
    "--width 2 \\\n",
    "--depth 28 \n",
    "--train_batch_size 64 \\\n",
    "--test_batch_size 64 \\\n",
    "--model_path {RNN_MODEL_PATH} \\\n",
    "--test_iterations 5\n",
    "\n",
    "\"\"\"\n",
    "args = parser.parse_args(args_str.split())\n"
   ]
  },
  {
   "cell_type": "code",
   "execution_count": 10,
   "id": "22b9e5f6",
   "metadata": {},
   "outputs": [
    {
     "name": "stdout",
     "output_type": "stream",
     "text": [
      "Loading data with 0.5 bits.\n",
      "<class 'torch.Tensor'> <class 'torch.Tensor'>\n",
      "Training data using pre-set indices [0, 8000).\n",
      "Loading data with 0.1 bits.\n",
      "<class 'torch.Tensor'> <class 'torch.Tensor'>\n",
      "Testing data using pre-set indices [8000, 10000).\n"
     ]
    }
   ],
   "source": [
    "# load data\n",
    "\n",
    "import torch.utils.data as data\n",
    "\n",
    "from utils import train, test, OptimizerWithSched, load_model_from_checkpoint, \\\n",
    "    get_dataloaders, to_json, get_optimizer, to_log_file, now, get_model\n",
    "\n",
    "# trainloader, testloader = get_dataloaders(args.train_batch_size, args.test_batch_size, shuffle=args.shuffle)\n",
    "\n",
    "train_data = NoisyImageDataset(\"./data\", train=True,num_bits=0.5)\n",
    "test_data = NoisyImageDataset(\"./data\", train=False)\n",
    "# train_data = MazeDataset(\"./data\", train=True)\n",
    "# test_data = MazeDataset(\"./data\", train=False)\n",
    "\n",
    "\n",
    "train_batch_size = args.train_batch_size\n",
    "test_batch_size = args.test_batch_size\n",
    "shuffle = args.shuffle\n",
    "\n",
    "trainloader = data.DataLoader(train_data, num_workers=0, batch_size=train_batch_size,\n",
    "                              shuffle=shuffle, drop_last=True)\n",
    "testloader = data.DataLoader(test_data, num_workers=0, batch_size=test_batch_size,\n",
    "                             shuffle=False, drop_last=False)"
   ]
  },
  {
   "cell_type": "code",
   "execution_count": 11,
   "id": "1e40dc85",
   "metadata": {},
   "outputs": [
    {
     "name": "stderr",
     "output_type": "stream",
     "text": [
      "\r",
      "  0%|                                              | 0/156 [00:00<?, ?it/s]"
     ]
    },
    {
     "name": "stdout",
     "output_type": "stream",
     "text": [
      "torch.Size([64, 3, 32, 32])\n",
      "torch.Size([64, 3, 32, 32])\n"
     ]
    },
    {
     "data": {
      "image/png": "[encoded data removed]",
      "text/plain": [
       "<Figure size 432x288 with 1 Axes>"
      ]
     },
     "metadata": {
      "needs_background": "light"
     },
     "output_type": "display_data"
    },
    {
     "data": {
      "image/png": "[encoded data removed]",
      "text/plain": [
       "<Figure size 432x288 with 1 Axes>"
      ]
     },
     "metadata": {
      "needs_background": "light"
     },
     "output_type": "display_data"
    },
    {
     "name": "stderr",
     "output_type": "stream",
     "text": [
      "                                                                           \r"
     ]
    }
   ],
   "source": [
    "# examine data\n",
    "\n",
    "import random\n",
    "import matplotlib.pyplot as plt\n",
    "\n",
    "def show_image(image):\n",
    "    image = image.transpose(0, 1).transpose(1, 2)/256\n",
    "    plt.imshow(image) \n",
    "    plt.show()\n",
    "\n",
    "\n",
    "device = \"cpu\"\n",
    "\n",
    "for batch_idx, (inputs, targets) in enumerate(tqdm(trainloader, leave=False)):\n",
    "    inputs, targets = inputs.to(device), targets.to(device)\n",
    "    print(inputs.shape)\n",
    "    print(targets.shape)\n",
    "    \n",
    "    idx = random.randint(0,len(inputs)-1)\n",
    "#     image = inputs[idx].transpose(0, 1).transpose(1, 2)/256\n",
    "#     target = targets[idx].transpose(0, 1).transpose(1, 2)/256\n",
    "    show_image(inputs[idx])\n",
    "    show_image(targets[idx])\n",
    "    \n",
    "    #display(image.type)\n",
    "    #display(target.type)\n",
    "    \n",
    "    break"
   ]
  },
  {
   "cell_type": "code",
   "execution_count": 12,
   "id": "6e9e76a7",
   "metadata": {},
   "outputs": [
    {
     "name": "stdout",
     "output_type": "stream",
     "text": [
      "Loading model from checkpoint check_default/recur_resnet_adam_depth=28_width=2_lr=0.0001_batchsize=64_at9_epoch=9_log.pth...\n",
      "6\n"
     ]
    }
   ],
   "source": [
    "# model inference\n",
    "\n",
    "# load model from path if a path is provided\n",
    "print(f\"Loading model from checkpoint {args.model_path}...\")\n",
    "net, start_epoch, optimizer_state_dict = load_model_from_checkpoint(args.model,\n",
    "                                                                    args.model_path,\n",
    "                                                                    args.width,\n",
    "                                                                    args.depth)\n",
    "print(net.iters)\n",
    "start_epoch += 1\n",
    "\n",
    "\n",
    "net = torch.nn.DataParallel(net, device_ids=None)\n",
    "# pytorch_total_params = sum(p.numel() for p in net.parameters())\n",
    "# optimizer = get_optimizer(args.optimizer, net, args.lr)"
   ]
  },
  {
   "cell_type": "code",
   "execution_count": 13,
   "id": "fe5cef28",
   "metadata": {},
   "outputs": [],
   "source": [
    "device = 'cuda:0'"
   ]
  },
  {
   "cell_type": "code",
   "execution_count": 23,
   "id": "ada7c0f8",
   "metadata": {
    "scrolled": false
   },
   "outputs": [
    {
     "name": "stderr",
     "output_type": "stream",
     "text": [
      "\r",
      "  0%|                                              | 0/156 [00:00<?, ?it/s]"
     ]
    },
    {
     "data": {
      "image/png": "[encoded data removed]",
      "text/plain": [
       "<Figure size 432x288 with 1 Axes>"
      ]
     },
     "metadata": {
      "needs_background": "light"
     },
     "output_type": "display_data"
    },
    {
     "data": {
      "image/png": "[encoded data removed]",
      "text/plain": [
       "<Figure size 432x288 with 1 Axes>"
      ]
     },
     "metadata": {
      "needs_background": "light"
     },
     "output_type": "display_data"
    },
    {
     "name": "stderr",
     "output_type": "stream",
     "text": [
      "Clipping input data to the valid range for imshow with RGB data ([0..1] for floats or [0..255] for integers).\n"
     ]
    },
    {
     "name": "stdout",
     "output_type": "stream",
     "text": [
      "iteration 0\n",
      "iteration 5\n",
      "iteration 10\n",
      "iteration 15\n",
      "iteration 20\n",
      "iteration 25\n",
      "iteration 30\n",
      "iteration 35\n",
      "iteration 40\n",
      "iteration 45\n"
     ]
    },
    {
     "data": {
      "image/png": "[encoded data removed]",
      "text/plain": [
       "<Figure size 432x288 with 1 Axes>"
      ]
     },
     "metadata": {
      "needs_background": "light"
     },
     "output_type": "display_data"
    },
    {
     "data": {
      "image/png": "[encoded data removed]",
      "text/plain": [
       "<Figure size 360x360 with 1 Axes>"
      ]
     },
     "metadata": {
      "needs_background": "light"
     },
     "output_type": "display_data"
    },
    {
     "name": "stderr",
     "output_type": "stream",
     "text": [
      "                                                                           \r"
     ]
    }
   ],
   "source": [
    "# display thoughts over more thinking\n",
    "\n",
    "# net, start_epoch, optimizer_state_dict = load_model_from_checkpoint(args.model,\n",
    "#                                                                     args.model_path,\n",
    "#                                                                     args.width,\n",
    "#                                                                     args.depth)\n",
    "def error(A,B):\n",
    "    A = np.clip(A,0,255)\n",
    "    B = np.clip(B,0,255)\n",
    "    return np.square(np.subtract(A, B)).mean()\n",
    "net, start_epoch, optimizer_state_dict = load_model_from_checkpoint(args.model,\n",
    "                                                                    args.model_path,\n",
    "                                                                    args.width,\n",
    "                                                                    args.depth)\n",
    "    \n",
    "net.iters = 50\n",
    "net.eval()\n",
    "net = net.to(device)\n",
    "confidence = torch.zeros(net.iters)\n",
    "\n",
    "errors = []\n",
    "\n",
    "with torch.no_grad():\n",
    "    for batch_idx, (inputs, targets) in enumerate(tqdm(trainloader, leave=False)):\n",
    "        inputs = inputs.float()\n",
    "        inputs, targets = inputs.to(device), targets.to(device)\n",
    "        prediction = net(inputs.to(device))\n",
    "        \n",
    "        # show the input and target\n",
    "        plt.imshow(inputs[0].cpu().transpose(0,1).transpose(1,2)/256)\n",
    "        plt.show()\n",
    "\n",
    "        plt.imshow(targets[0].cpu().transpose(0,1).transpose(1,2)/256)\n",
    "        plt.show()\n",
    "        \n",
    "        # show model thoughts\n",
    "        for i in range(0,net.iters):\n",
    "            if i%5 == 0:\n",
    "                print(f'iteration {i}')\n",
    "                #show_image(net.thoughts[i][0].cpu())\n",
    "#             output = net.thoughts[i][0].cpu().transpose(0, 1).transpose(1, 2)/256\n",
    "#             plt.imshow(output)\n",
    "#             plt.show()\n",
    "            errors.append(error(net.thoughts[i][0].cpu(),targets[0].cpu()))\n",
    "\n",
    "        plt.imshow(prediction[0].cpu().transpose(0,1).transpose(1,2)/256) \n",
    "        plt.show()\n",
    "        \n",
    "        plt.figure(figsize=(5,5))\n",
    "        plt.title(\"MSE Loss over time\",fontsize=16)\n",
    "        plt.ylabel(\"MSE Loss\",fontsize=14)\n",
    "        plt.xlabel(\"Number of thinking iterations\",fontsize=14)\n",
    "        plt.xticks([0,10,20,30,40,50],fontsize=14)\n",
    "        plt.yticks([5000,10**4,15*10**3,20*10**3,25*10**3],fontsize=14)\n",
    "        plt.tight_layout()\n",
    "        plt.plot(errors)\n",
    "        plt.show()\n",
    "            \n",
    "        break\n",
    "        \n",
    "#         confidence_array = torch.zeros(net.iters, inputs.size(0))\n",
    "#         for i, thought in enumerate(net.thoughts):\n",
    "#             conf = torch.nn.functional.softmax(thought.detach(), dim=1).max(1)[0] \\\n",
    "#                    * inputs.max(1)[0]\n",
    "#             confidence[i] += conf.sum().item()\n",
    "#             confidence_array[i] = conf.sum([1, 2]) / inputs.max(1)[0].sum([1, 2])\n",
    "#         exit_iter = confidence_array.argmax(0)\n",
    "\n",
    "#         best_thoughts = net.thoughts[exit_iter, torch.arange(net.thoughts.size(1))].squeeze()\n",
    "#         if best_thoughts.shape[0] != inputs.shape[0]:\n",
    "#             best_thoughts = best_thoughts.unsqueeze(0)\n",
    "#         predicted = best_thoughts.argmax(1) * inputs.max(1)[0]\n",
    "\n",
    "        \n"
   ]
  },
  {
   "cell_type": "code",
   "execution_count": 9,
   "id": "4971ec96",
   "metadata": {
    "scrolled": true
   },
   "outputs": [
    {
     "name": "stdout",
     "output_type": "stream",
     "text": [
      "9\n"
     ]
    },
    {
     "ename": "TypeError",
     "evalue": "can't convert cuda:0 device type tensor to numpy. Use Tensor.cpu() to copy the tensor to host memory first.",
     "output_type": "error",
     "traceback": [
      "\u001b[0;31m---------------------------------------------------------------------------\u001b[0m",
      "\u001b[0;31mTypeError\u001b[0m                                 Traceback (most recent call last)",
      "\u001b[0;32m/tmp/ipykernel_28439/3351318191.py\u001b[0m in \u001b[0;36m<module>\u001b[0;34m\u001b[0m\n\u001b[1;32m     13\u001b[0m \u001b[0;34m\u001b[0m\u001b[0m\n\u001b[1;32m     14\u001b[0m \u001b[0;34m\u001b[0m\u001b[0m\n\u001b[0;32m---> 15\u001b[0;31m         \u001b[0mplt\u001b[0m\u001b[0;34m.\u001b[0m\u001b[0mimshow\u001b[0m\u001b[0;34m(\u001b[0m\u001b[0minput_image\u001b[0m\u001b[0;34m)\u001b[0m\u001b[0;34m\u001b[0m\u001b[0;34m\u001b[0m\u001b[0m\n\u001b[0m\u001b[1;32m     16\u001b[0m         \u001b[0mplt\u001b[0m\u001b[0;34m.\u001b[0m\u001b[0mshow\u001b[0m\u001b[0;34m(\u001b[0m\u001b[0;34m)\u001b[0m\u001b[0;34m\u001b[0m\u001b[0;34m\u001b[0m\u001b[0m\n\u001b[1;32m     17\u001b[0m         \u001b[0mplt\u001b[0m\u001b[0;34m.\u001b[0m\u001b[0mimshow\u001b[0m\u001b[0;34m(\u001b[0m\u001b[0moutput\u001b[0m\u001b[0;34m)\u001b[0m\u001b[0;34m\u001b[0m\u001b[0;34m\u001b[0m\u001b[0m\n",
      "\u001b[0;32m/fs/clip-quiz/amao/miniconda3/envs/dt/lib/python3.8/site-packages/matplotlib/pyplot.py\u001b[0m in \u001b[0;36mimshow\u001b[0;34m(X, cmap, norm, aspect, interpolation, alpha, vmin, vmax, origin, extent, shape, filternorm, filterrad, imlim, resample, url, data, **kwargs)\u001b[0m\n\u001b[1;32m   2643\u001b[0m         \u001b[0mfilterrad\u001b[0m\u001b[0;34m=\u001b[0m\u001b[0;36m4.0\u001b[0m\u001b[0;34m,\u001b[0m \u001b[0mimlim\u001b[0m\u001b[0;34m=\u001b[0m\u001b[0mcbook\u001b[0m\u001b[0;34m.\u001b[0m\u001b[0mdeprecation\u001b[0m\u001b[0;34m.\u001b[0m\u001b[0m_deprecated_parameter\u001b[0m\u001b[0;34m,\u001b[0m\u001b[0;34m\u001b[0m\u001b[0;34m\u001b[0m\u001b[0m\n\u001b[1;32m   2644\u001b[0m         resample=None, url=None, *, data=None, **kwargs):\n\u001b[0;32m-> 2645\u001b[0;31m     __ret = gca().imshow(\n\u001b[0m\u001b[1;32m   2646\u001b[0m         \u001b[0mX\u001b[0m\u001b[0;34m,\u001b[0m \u001b[0mcmap\u001b[0m\u001b[0;34m=\u001b[0m\u001b[0mcmap\u001b[0m\u001b[0;34m,\u001b[0m \u001b[0mnorm\u001b[0m\u001b[0;34m=\u001b[0m\u001b[0mnorm\u001b[0m\u001b[0;34m,\u001b[0m \u001b[0maspect\u001b[0m\u001b[0;34m=\u001b[0m\u001b[0maspect\u001b[0m\u001b[0;34m,\u001b[0m\u001b[0;34m\u001b[0m\u001b[0;34m\u001b[0m\u001b[0m\n\u001b[1;32m   2647\u001b[0m         \u001b[0minterpolation\u001b[0m\u001b[0;34m=\u001b[0m\u001b[0minterpolation\u001b[0m\u001b[0;34m,\u001b[0m \u001b[0malpha\u001b[0m\u001b[0;34m=\u001b[0m\u001b[0malpha\u001b[0m\u001b[0;34m,\u001b[0m \u001b[0mvmin\u001b[0m\u001b[0;34m=\u001b[0m\u001b[0mvmin\u001b[0m\u001b[0;34m,\u001b[0m\u001b[0;34m\u001b[0m\u001b[0;34m\u001b[0m\u001b[0m\n",
      "\u001b[0;32m/fs/clip-quiz/amao/miniconda3/envs/dt/lib/python3.8/site-packages/matplotlib/__init__.py\u001b[0m in \u001b[0;36minner\u001b[0;34m(ax, data, *args, **kwargs)\u001b[0m\n\u001b[1;32m   1563\u001b[0m     \u001b[0;32mdef\u001b[0m \u001b[0minner\u001b[0m\u001b[0;34m(\u001b[0m\u001b[0max\u001b[0m\u001b[0;34m,\u001b[0m \u001b[0;34m*\u001b[0m\u001b[0margs\u001b[0m\u001b[0;34m,\u001b[0m \u001b[0mdata\u001b[0m\u001b[0;34m=\u001b[0m\u001b[0;32mNone\u001b[0m\u001b[0;34m,\u001b[0m \u001b[0;34m**\u001b[0m\u001b[0mkwargs\u001b[0m\u001b[0;34m)\u001b[0m\u001b[0;34m:\u001b[0m\u001b[0;34m\u001b[0m\u001b[0;34m\u001b[0m\u001b[0m\n\u001b[1;32m   1564\u001b[0m         \u001b[0;32mif\u001b[0m \u001b[0mdata\u001b[0m \u001b[0;32mis\u001b[0m \u001b[0;32mNone\u001b[0m\u001b[0;34m:\u001b[0m\u001b[0;34m\u001b[0m\u001b[0;34m\u001b[0m\u001b[0m\n\u001b[0;32m-> 1565\u001b[0;31m             \u001b[0;32mreturn\u001b[0m \u001b[0mfunc\u001b[0m\u001b[0;34m(\u001b[0m\u001b[0max\u001b[0m\u001b[0;34m,\u001b[0m \u001b[0;34m*\u001b[0m\u001b[0mmap\u001b[0m\u001b[0;34m(\u001b[0m\u001b[0msanitize_sequence\u001b[0m\u001b[0;34m,\u001b[0m \u001b[0margs\u001b[0m\u001b[0;34m)\u001b[0m\u001b[0;34m,\u001b[0m \u001b[0;34m**\u001b[0m\u001b[0mkwargs\u001b[0m\u001b[0;34m)\u001b[0m\u001b[0;34m\u001b[0m\u001b[0;34m\u001b[0m\u001b[0m\n\u001b[0m\u001b[1;32m   1566\u001b[0m \u001b[0;34m\u001b[0m\u001b[0m\n\u001b[1;32m   1567\u001b[0m         \u001b[0mbound\u001b[0m \u001b[0;34m=\u001b[0m \u001b[0mnew_sig\u001b[0m\u001b[0;34m.\u001b[0m\u001b[0mbind\u001b[0m\u001b[0;34m(\u001b[0m\u001b[0max\u001b[0m\u001b[0;34m,\u001b[0m \u001b[0;34m*\u001b[0m\u001b[0margs\u001b[0m\u001b[0;34m,\u001b[0m \u001b[0;34m**\u001b[0m\u001b[0mkwargs\u001b[0m\u001b[0;34m)\u001b[0m\u001b[0;34m\u001b[0m\u001b[0;34m\u001b[0m\u001b[0m\n",
      "\u001b[0;32m/fs/clip-quiz/amao/miniconda3/envs/dt/lib/python3.8/site-packages/matplotlib/cbook/deprecation.py\u001b[0m in \u001b[0;36mwrapper\u001b[0;34m(*args, **kwargs)\u001b[0m\n\u001b[1;32m    356\u001b[0m                 \u001b[0;34mf\"%(removal)s.  If any parameter follows {name!r}, they \"\u001b[0m\u001b[0;34m\u001b[0m\u001b[0;34m\u001b[0m\u001b[0m\n\u001b[1;32m    357\u001b[0m                 f\"should be pass as keyword, not positionally.\")\n\u001b[0;32m--> 358\u001b[0;31m         \u001b[0;32mreturn\u001b[0m \u001b[0mfunc\u001b[0m\u001b[0;34m(\u001b[0m\u001b[0;34m*\u001b[0m\u001b[0margs\u001b[0m\u001b[0;34m,\u001b[0m \u001b[0;34m**\u001b[0m\u001b[0mkwargs\u001b[0m\u001b[0;34m)\u001b[0m\u001b[0;34m\u001b[0m\u001b[0;34m\u001b[0m\u001b[0m\n\u001b[0m\u001b[1;32m    359\u001b[0m \u001b[0;34m\u001b[0m\u001b[0m\n\u001b[1;32m    360\u001b[0m     \u001b[0;32mreturn\u001b[0m \u001b[0mwrapper\u001b[0m\u001b[0;34m\u001b[0m\u001b[0;34m\u001b[0m\u001b[0m\n",
      "\u001b[0;32m/fs/clip-quiz/amao/miniconda3/envs/dt/lib/python3.8/site-packages/matplotlib/cbook/deprecation.py\u001b[0m in \u001b[0;36mwrapper\u001b[0;34m(*args, **kwargs)\u001b[0m\n\u001b[1;32m    356\u001b[0m                 \u001b[0;34mf\"%(removal)s.  If any parameter follows {name!r}, they \"\u001b[0m\u001b[0;34m\u001b[0m\u001b[0;34m\u001b[0m\u001b[0m\n\u001b[1;32m    357\u001b[0m                 f\"should be pass as keyword, not positionally.\")\n\u001b[0;32m--> 358\u001b[0;31m         \u001b[0;32mreturn\u001b[0m \u001b[0mfunc\u001b[0m\u001b[0;34m(\u001b[0m\u001b[0;34m*\u001b[0m\u001b[0margs\u001b[0m\u001b[0;34m,\u001b[0m \u001b[0;34m**\u001b[0m\u001b[0mkwargs\u001b[0m\u001b[0;34m)\u001b[0m\u001b[0;34m\u001b[0m\u001b[0;34m\u001b[0m\u001b[0m\n\u001b[0m\u001b[1;32m    359\u001b[0m \u001b[0;34m\u001b[0m\u001b[0m\n\u001b[1;32m    360\u001b[0m     \u001b[0;32mreturn\u001b[0m \u001b[0mwrapper\u001b[0m\u001b[0;34m\u001b[0m\u001b[0;34m\u001b[0m\u001b[0m\n",
      "\u001b[0;32m/fs/clip-quiz/amao/miniconda3/envs/dt/lib/python3.8/site-packages/matplotlib/axes/_axes.py\u001b[0m in \u001b[0;36mimshow\u001b[0;34m(self, X, cmap, norm, aspect, interpolation, alpha, vmin, vmax, origin, extent, shape, filternorm, filterrad, imlim, resample, url, **kwargs)\u001b[0m\n\u001b[1;32m   5624\u001b[0m                               resample=resample, **kwargs)\n\u001b[1;32m   5625\u001b[0m \u001b[0;34m\u001b[0m\u001b[0m\n\u001b[0;32m-> 5626\u001b[0;31m         \u001b[0mim\u001b[0m\u001b[0;34m.\u001b[0m\u001b[0mset_data\u001b[0m\u001b[0;34m(\u001b[0m\u001b[0mX\u001b[0m\u001b[0;34m)\u001b[0m\u001b[0;34m\u001b[0m\u001b[0;34m\u001b[0m\u001b[0m\n\u001b[0m\u001b[1;32m   5627\u001b[0m         \u001b[0mim\u001b[0m\u001b[0;34m.\u001b[0m\u001b[0mset_alpha\u001b[0m\u001b[0;34m(\u001b[0m\u001b[0malpha\u001b[0m\u001b[0;34m)\u001b[0m\u001b[0;34m\u001b[0m\u001b[0;34m\u001b[0m\u001b[0m\n\u001b[1;32m   5628\u001b[0m         \u001b[0;32mif\u001b[0m \u001b[0mim\u001b[0m\u001b[0;34m.\u001b[0m\u001b[0mget_clip_path\u001b[0m\u001b[0;34m(\u001b[0m\u001b[0;34m)\u001b[0m \u001b[0;32mis\u001b[0m \u001b[0;32mNone\u001b[0m\u001b[0;34m:\u001b[0m\u001b[0;34m\u001b[0m\u001b[0;34m\u001b[0m\u001b[0m\n",
      "\u001b[0;32m/fs/clip-quiz/amao/miniconda3/envs/dt/lib/python3.8/site-packages/matplotlib/image.py\u001b[0m in \u001b[0;36mset_data\u001b[0;34m(self, A)\u001b[0m\n\u001b[1;32m    687\u001b[0m             \u001b[0;32mif\u001b[0m \u001b[0misinstance\u001b[0m\u001b[0;34m(\u001b[0m\u001b[0mA\u001b[0m\u001b[0;34m,\u001b[0m \u001b[0mImage\u001b[0m\u001b[0;34m.\u001b[0m\u001b[0mImage\u001b[0m\u001b[0;34m)\u001b[0m\u001b[0;34m:\u001b[0m\u001b[0;34m\u001b[0m\u001b[0;34m\u001b[0m\u001b[0m\n\u001b[1;32m    688\u001b[0m                 \u001b[0mA\u001b[0m \u001b[0;34m=\u001b[0m \u001b[0mpil_to_array\u001b[0m\u001b[0;34m(\u001b[0m\u001b[0mA\u001b[0m\u001b[0;34m)\u001b[0m  \u001b[0;31m# Needed e.g. to apply png palette.\u001b[0m\u001b[0;34m\u001b[0m\u001b[0;34m\u001b[0m\u001b[0m\n\u001b[0;32m--> 689\u001b[0;31m         \u001b[0mself\u001b[0m\u001b[0;34m.\u001b[0m\u001b[0m_A\u001b[0m \u001b[0;34m=\u001b[0m \u001b[0mcbook\u001b[0m\u001b[0;34m.\u001b[0m\u001b[0msafe_masked_invalid\u001b[0m\u001b[0;34m(\u001b[0m\u001b[0mA\u001b[0m\u001b[0;34m,\u001b[0m \u001b[0mcopy\u001b[0m\u001b[0;34m=\u001b[0m\u001b[0;32mTrue\u001b[0m\u001b[0;34m)\u001b[0m\u001b[0;34m\u001b[0m\u001b[0;34m\u001b[0m\u001b[0m\n\u001b[0m\u001b[1;32m    690\u001b[0m \u001b[0;34m\u001b[0m\u001b[0m\n\u001b[1;32m    691\u001b[0m         if (self._A.dtype != np.uint8 and\n",
      "\u001b[0;32m/fs/clip-quiz/amao/miniconda3/envs/dt/lib/python3.8/site-packages/matplotlib/cbook/__init__.py\u001b[0m in \u001b[0;36msafe_masked_invalid\u001b[0;34m(x, copy)\u001b[0m\n\u001b[1;32m    704\u001b[0m \u001b[0;34m\u001b[0m\u001b[0m\n\u001b[1;32m    705\u001b[0m \u001b[0;32mdef\u001b[0m \u001b[0msafe_masked_invalid\u001b[0m\u001b[0;34m(\u001b[0m\u001b[0mx\u001b[0m\u001b[0;34m,\u001b[0m \u001b[0mcopy\u001b[0m\u001b[0;34m=\u001b[0m\u001b[0;32mFalse\u001b[0m\u001b[0;34m)\u001b[0m\u001b[0;34m:\u001b[0m\u001b[0;34m\u001b[0m\u001b[0;34m\u001b[0m\u001b[0m\n\u001b[0;32m--> 706\u001b[0;31m     \u001b[0mx\u001b[0m \u001b[0;34m=\u001b[0m \u001b[0mnp\u001b[0m\u001b[0;34m.\u001b[0m\u001b[0marray\u001b[0m\u001b[0;34m(\u001b[0m\u001b[0mx\u001b[0m\u001b[0;34m,\u001b[0m \u001b[0msubok\u001b[0m\u001b[0;34m=\u001b[0m\u001b[0;32mTrue\u001b[0m\u001b[0;34m,\u001b[0m \u001b[0mcopy\u001b[0m\u001b[0;34m=\u001b[0m\u001b[0mcopy\u001b[0m\u001b[0;34m)\u001b[0m\u001b[0;34m\u001b[0m\u001b[0;34m\u001b[0m\u001b[0m\n\u001b[0m\u001b[1;32m    707\u001b[0m     \u001b[0;32mif\u001b[0m \u001b[0;32mnot\u001b[0m \u001b[0mx\u001b[0m\u001b[0;34m.\u001b[0m\u001b[0mdtype\u001b[0m\u001b[0;34m.\u001b[0m\u001b[0misnative\u001b[0m\u001b[0;34m:\u001b[0m\u001b[0;34m\u001b[0m\u001b[0;34m\u001b[0m\u001b[0m\n\u001b[1;32m    708\u001b[0m         \u001b[0;31m# Note that the argument to `byteswap` is 'inplace',\u001b[0m\u001b[0;34m\u001b[0m\u001b[0;34m\u001b[0m\u001b[0;34m\u001b[0m\u001b[0m\n",
      "\u001b[0;32m/fs/clip-quiz/amao/miniconda3/envs/dt/lib/python3.8/site-packages/torch/tensor.py\u001b[0m in \u001b[0;36m__array__\u001b[0;34m(self, dtype)\u001b[0m\n\u001b[1;32m    628\u001b[0m             \u001b[0;32mreturn\u001b[0m \u001b[0mhandle_torch_function\u001b[0m\u001b[0;34m(\u001b[0m\u001b[0mTensor\u001b[0m\u001b[0;34m.\u001b[0m\u001b[0m__array__\u001b[0m\u001b[0;34m,\u001b[0m \u001b[0mrelevant_args\u001b[0m\u001b[0;34m,\u001b[0m \u001b[0mself\u001b[0m\u001b[0;34m,\u001b[0m \u001b[0mdtype\u001b[0m\u001b[0;34m=\u001b[0m\u001b[0mdtype\u001b[0m\u001b[0;34m)\u001b[0m\u001b[0;34m\u001b[0m\u001b[0;34m\u001b[0m\u001b[0m\n\u001b[1;32m    629\u001b[0m         \u001b[0;32mif\u001b[0m \u001b[0mdtype\u001b[0m \u001b[0;32mis\u001b[0m \u001b[0;32mNone\u001b[0m\u001b[0;34m:\u001b[0m\u001b[0;34m\u001b[0m\u001b[0;34m\u001b[0m\u001b[0m\n\u001b[0;32m--> 630\u001b[0;31m             \u001b[0;32mreturn\u001b[0m \u001b[0mself\u001b[0m\u001b[0;34m.\u001b[0m\u001b[0mnumpy\u001b[0m\u001b[0;34m(\u001b[0m\u001b[0;34m)\u001b[0m\u001b[0;34m\u001b[0m\u001b[0;34m\u001b[0m\u001b[0m\n\u001b[0m\u001b[1;32m    631\u001b[0m         \u001b[0;32melse\u001b[0m\u001b[0;34m:\u001b[0m\u001b[0;34m\u001b[0m\u001b[0;34m\u001b[0m\u001b[0m\n\u001b[1;32m    632\u001b[0m             \u001b[0;32mreturn\u001b[0m \u001b[0mself\u001b[0m\u001b[0;34m.\u001b[0m\u001b[0mnumpy\u001b[0m\u001b[0;34m(\u001b[0m\u001b[0;34m)\u001b[0m\u001b[0;34m.\u001b[0m\u001b[0mastype\u001b[0m\u001b[0;34m(\u001b[0m\u001b[0mdtype\u001b[0m\u001b[0;34m,\u001b[0m \u001b[0mcopy\u001b[0m\u001b[0;34m=\u001b[0m\u001b[0;32mFalse\u001b[0m\u001b[0;34m)\u001b[0m\u001b[0;34m\u001b[0m\u001b[0;34m\u001b[0m\u001b[0m\n",
      "\u001b[0;31mTypeError\u001b[0m: can't convert cuda:0 device type tensor to numpy. Use Tensor.cpu() to copy the tensor to host memory first."
     ]
    },
    {
     "data": {
      "image/png": "[encoded data removed]",
      "text/plain": [
       "<Figure size 432x288 with 1 Axes>"
      ]
     },
     "metadata": {
      "needs_background": "light"
     },
     "output_type": "display_data"
    }
   ],
   "source": [
    "with torch.no_grad():\n",
    "    \n",
    "    for i in range(10):\n",
    "        idx = random.randint(0,32)\n",
    "        print(idx)\n",
    "        input_image = inputs[idx].transpose(0, 1).transpose(1, 2)/256\n",
    "                \n",
    "        output = outputs[idx].transpose(0, 1).transpose(1, 2)/256\n",
    "        output = output.cpu()\n",
    "        \n",
    "        target = targets[idx].transpose(0,1).transpose(1,2)/256\n",
    "        target = target.cpu()\n",
    "        \n",
    "\n",
    "        plt.imshow(input_image)\n",
    "        plt.show()\n",
    "        plt.imshow(output)\n",
    "        plt.show()\n",
    "        plt.imshow(target)\n",
    "        plt.show()\n",
    "        print(np.linalg.norm(output-target))"
   ]
  },
  {
   "cell_type": "code",
   "execution_count": null,
   "id": "0024162d",
   "metadata": {},
   "outputs": [],
   "source": [
    "net.eval()\n",
    "\n",
    "criterion = torch.nn.MSELoss()\n",
    "\n",
    "train_loss = 0\n",
    "correct = 0\n",
    "total = 0\n",
    "total_pixels = 0\n",
    "\n",
    "for batch_idx, (inputs, targets) in enumerate(tqdm(trainloader, leave=False)):\n",
    "    inputs = inputs.float()\n",
    "    inputs, targets = inputs.to(device), targets.to(device)\n",
    "    print(targets.shape)\n",
    "#     optimizer.zero_grad()\n",
    "    outputs = net(inputs)\n",
    "    \n",
    "#     loss = criterion(outputs, targets)\n",
    "\n",
    "    break\n"
   ]
  },
  {
   "cell_type": "code",
   "execution_count": null,
   "id": "c7366eca",
   "metadata": {},
   "outputs": [],
   "source": [
    "# model training\n",
    "\n",
    "net = get_model(args.model, args.width, args.depth)\n",
    "start_epoch = 0\n",
    "optimizer_state_dict = None\n",
    "\n",
    "net = net.to(device)\n",
    "pytorch_total_params = sum(p.numel() for p in net.parameters())\n",
    "optimizer = get_optimizer(args.optimizer, args.model, net, args.lr)\n"
   ]
  },
  {
   "cell_type": "code",
   "execution_count": null,
   "id": "790e3a1c",
   "metadata": {},
   "outputs": [],
   "source": [
    "# def train_default(net, trainloader, optimizer_obj, device):\n",
    "\n",
    "net.train()\n",
    "net = net.to(device)\n",
    "# optimizer = optimizer_obj.optimizer\n",
    "# lr_scheduler = optimizer_obj.scheduler\n",
    "# warmup_scheduler = optimizer_obj.warmup\n",
    "\n",
    "# warmup_scheduler = warmup.ExponentialWarmup(optimizer, warmup_period=args.warmup_period)\n",
    "\n",
    "# lr_scheduler = MultiStepLR(optimizer, milestones=args.lr_schedule, gamma=args.lr_factor,\n",
    "#                        last_epoch=start_epoch-1)\n",
    "\n",
    "# optimizer_obj = OptimizerWithSched(optimizer, lr_scheduler, warmup_scheduler)\n",
    "    \n",
    "# criterion = torch.nn.CrossEntropyLoss()\n",
    "criterion = torch.nn.MSELoss()\n",
    "\n",
    "train_loss = 0\n",
    "correct = 0\n",
    "total = 0\n",
    "total_pixels = 0\n",
    "\n",
    "for batch_idx, (inputs, targets) in enumerate(tqdm(trainloader, leave=False)):\n",
    "    inputs, targets = inputs.to(device), targets.to(device)\n",
    "    print(targets.shape)\n",
    "#     optimizer.zero_grad()\n",
    "    outputs = net(inputs)\n",
    "\n",
    "    break\n",
    "\n"
   ]
  },
  {
   "cell_type": "code",
   "execution_count": null,
   "id": "96520bcb",
   "metadata": {},
   "outputs": [],
   "source": [
    "targets = targets.float()\n",
    "display(outputs.dtype)\n",
    "display(targets.dtype)\n",
    "# print(net.dtype)"
   ]
  },
  {
   "cell_type": "code",
   "execution_count": null,
   "id": "b9a12836",
   "metadata": {},
   "outputs": [],
   "source": [
    "targets.size(0)"
   ]
  },
  {
   "cell_type": "code",
   "execution_count": null,
   "id": "400f8a47",
   "metadata": {},
   "outputs": [],
   "source": [
    "print(outputs.shape)\n",
    "print(targets.shape)"
   ]
  },
  {
   "cell_type": "code",
   "execution_count": null,
   "id": "583e6c67",
   "metadata": {},
   "outputs": [],
   "source": [
    "# n, c, h, w = outputs.size()\n",
    "# print(outputs.shape)\n",
    "# reshaped_outputs = outputs.transpose(1, 2).transpose(2, 3).contiguous()\n",
    "# print(reshaped_outputs.shape)\n",
    "# # reshaped_outputs = reshaped_outputs[targets.view(n, h, w, 1).repeat(1, 1, 1, c) >= 0]\n",
    "# # print(reshaped_outputs.shape)\n",
    "# reshaped_outputs = reshaped_outputs.view(-1, c)\n",
    "# print(reshaped_outputs.shape)\n",
    "\n"
   ]
  },
  {
   "cell_type": "code",
   "execution_count": null,
   "id": "2a82bc07",
   "metadata": {},
   "outputs": [],
   "source": [
    "# # reshaped_inputs = inputs.transpose(1, 2).transpose(2, 3).contiguous()\n",
    "# # reshaped_inputs = reshaped_inputs.mean(3).unsqueeze(-1)\n",
    "# # reshaped_inputs = reshaped_inputs[targets.view(n, h, w, 1).repeat(1, 1, 1, 1) >= 0]\n",
    "# # reshaped_inputs = reshaped_inputs.view(-1, 1)\n",
    "# # path_mask = (reshaped_inputs > 0).squeeze()\n",
    "\n",
    "# # mask = targets >= 0.0\n",
    "# # reshaped_targets = targets[mask]\n",
    "\n",
    "# reshaped_targets = targets.transpose(1, 2).transpose(2, 3).contiguous()\n",
    "# reshaped_targets = reshaped_targets.view(-1, c)\n",
    "\n",
    "\n",
    "# print(reshaped_outputs.shape)\n",
    "# print(reshaped_targets.shape)"
   ]
  },
  {
   "cell_type": "code",
   "execution_count": null,
   "id": "98559c74",
   "metadata": {},
   "outputs": [],
   "source": [
    "\n",
    "loss = criterion(outputs, targets)\n",
    "display(loss)\n",
    "loss.backward()\n",
    "\n",
    "# loss = criterion(reshaped_outputs.view(-1, 2), targets.view(-1))\n",
    "\n",
    "    \n",
    "#         loss = loss[path_mask].mean()\n",
    "#         loss.backward()\n",
    "#         optimizer.step()\n",
    "\n",
    "#         train_loss += loss.item() * path_mask.size(0)\n",
    "#         total_pixels += path_mask.size(0)\n",
    "\n",
    "#         predicted = outputs.argmax(1) * inputs.max(1)[0]\n",
    "#         correct += torch.amin(predicted == targets, dim=[1, 2]).sum().item()\n",
    "#         total += targets.size(0)\n",
    "\n",
    "#     train_loss = train_loss / total_pixels\n",
    "#     acc = 100.0 * correct / total\n",
    "#     lr_scheduler.step()\n",
    "#     warmup_scheduler.dampen()\n",
    "\n",
    "#     return train_loss, acc"
   ]
  },
  {
   "cell_type": "code",
   "execution_count": null,
   "id": "ab385301",
   "metadata": {},
   "outputs": [],
   "source": [
    "print(outputs.shape)\n",
    "predicted = outputs.argmax(1)\n",
    "print(predicted.shape, targets.shape)\n",
    "\n",
    "correct += torch.amin(predicted == targets, dim=[1, 2]).sum().item()"
   ]
  },
  {
   "cell_type": "code",
   "execution_count": null,
   "id": "bfccf034",
   "metadata": {},
   "outputs": [],
   "source": [
    "# visualize predictions \n",
    "\n",
    "import json\n",
    "import pandas as pd\n",
    "\n",
    "test_results_path = \"test/test_stats.json\"\n",
    "\n",
    "with open(test_results_path) as f:\n",
    "    test_results = json.load(f)\n",
    "\n",
    "# print(test_results['num entries'])\n",
    "del test_results['num entries']\n",
    "\n",
    "df = pd.DataFrame.from_records(list(test_results.values()))\n",
    "df"
   ]
  },
  {
   "cell_type": "code",
   "execution_count": null,
   "id": "bc2252dd",
   "metadata": {},
   "outputs": [],
   "source": [
    "df = df.iloc[16:20]"
   ]
  },
  {
   "cell_type": "code",
   "execution_count": null,
   "id": "1dba88c4",
   "metadata": {},
   "outputs": [],
   "source": [
    "import matplotlib.pyplot as plt\n",
    "\n",
    "# df = df.drop_duplicates(subset=['model','test_iter'])\n",
    "\n",
    "ff_results = df[df['test_iter']==-1]\n",
    "ff_results['effective_depth'] = ff_results['model'].str.slice(13,15).astype(int)\n",
    "\n",
    "rnn_results = df[df['test_iter']>0]\n",
    "# rnn_results['effective_depth'] = rnn_results['model'].str.slice(16,18)\n",
    "\n",
    "plt.figure()\n",
    "# plt.subplot(211)\n",
    "plt.plot( \n",
    "         rnn_results['test_iter']*4, rnn_results['test_acc'], \n",
    "#          ff_results['effective_depth'], ff_results['eval_acc'],\n",
    "        )\n",
    "plt.title(\"MSE Against #Iterations (denoising)\")\n",
    "plt.xlabel(\"test iterations\")\n",
    "plt.ylabel(\"MSE\")\n",
    "\n",
    "# rnn_results.plot('test_iter',['test_acc'])\n",
    "# rnn_results.plot('test_iter',['eval_acc'])\n",
    "\n",
    "# plt.axhline(y=61, color='orange', linestyle='-')\n",
    "\n",
    "plt.legend(['recur_net','ff_net'])\n",
    "\n",
    "plt.show()\n"
   ]
  },
  {
   "cell_type": "code",
   "execution_count": null,
   "id": "64a1fb89",
   "metadata": {},
   "outputs": [],
   "source": [
    "# visualize images\n",
    "\n"
   ]
  }
 ],
 "metadata": {
  "kernelspec": {
   "display_name": "Python 3 (ipykernel)",
   "language": "python",
   "name": "python3"
  },
  "language_info": {
   "codemirror_mode": {
    "name": "ipython",
    "version": 3
   },
   "file_extension": ".py",
   "mimetype": "text/x-python",
   "name": "python",
   "nbconvert_exporter": "python",
   "pygments_lexer": "ipython3",
   "version": "3.8.3"
  }
 },
 "nbformat": 4,
 "nbformat_minor": 5
}
